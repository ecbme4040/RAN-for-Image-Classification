{
  "nbformat": 4,
  "nbformat_minor": 0,
  "metadata": {
    "colab": {
      "name": "cifar10_Attention-92.ipynb",
      "provenance": []
    },
    "kernelspec": {
      "name": "python3",
      "display_name": "Python 3"
    },
    "accelerator": "GPU"
  },
  "cells": [
    {
      "cell_type": "code",
      "metadata": {
        "id": "7AFT0B3M6Ryn"
      },
      "source": [
        "import os\r\n",
        "os.chdir('/content/drive/MyDrive/')"
      ],
      "execution_count": 3,
      "outputs": []
    },
    {
      "cell_type": "code",
      "metadata": {
        "id": "zpL1FX066ivD"
      },
      "source": [
        "import tensorflow as tf\r\n",
        "import pickle\r\n",
        "from ResidualAttentionNetwork import ResidualAttentionNetwork\r\n",
        "from matplotlib import pyplot as plt"
      ],
      "execution_count": 4,
      "outputs": []
    },
    {
      "cell_type": "code",
      "metadata": {
        "colab": {
          "base_uri": "https://localhost:8080/"
        },
        "id": "97Sgb3nt6lE1",
        "outputId": "eb9c404a-b96d-499c-f3ef-893edc859646"
      },
      "source": [
        "cifar10 = tf.keras.datasets.cifar10\r\n",
        "(x_train, y_train), (x_test, y_test) = cifar10.load_data()\r\n",
        "y_train = tf.keras.utils.to_categorical(y_train, 10)\r\n",
        "y_test = tf.keras.utils.to_categorical(y_test, 10)\r\n",
        "\r\n",
        "\r\n",
        "datagen = tf.keras.preprocessing.image.ImageDataGenerator(rotation_range=20,\r\n",
        "                                                          width_shift_range=0.2,\r\n",
        "                                                          height_shift_range=0.2,\r\n",
        "                                                          horizontal_flip=True,\r\n",
        "                                                          validation_split=0.2)\r\n",
        "\r\n",
        "x_train = x_train.astype('float32') / 255\r\n",
        "x_test = x_test.astype('float32') / 255\r\n",
        "\r\n",
        "x_train = x_train - x_train.mean()\r\n",
        "x_test = x_test - x_test.mean()\r\n",
        "\r\n",
        "datagen.fit(x_train)\r\n",
        "\r\n",
        "input_shape = x_train.shape[1:]\r\n",
        "output_size = 10"
      ],
      "execution_count": 5,
      "outputs": [
        {
          "output_type": "stream",
          "text": [
            "Downloading data from https://www.cs.toronto.edu/~kriz/cifar-10-python.tar.gz\n",
            "170500096/170498071 [==============================] - 6s 0us/step\n"
          ],
          "name": "stdout"
        }
      ]
    },
    {
      "cell_type": "code",
      "metadata": {
        "id": "Ptfna4njBLmd"
      },
      "source": [
        "def scheduler(epoch, lr):\r\n",
        "    if epoch == 160:\r\n",
        "        return lr * 0.1\r\n",
        "    else:\r\n",
        "        return lr\r\n",
        "\r\n",
        "model = ResidualAttentionNetwork(input_shape=input_shape, output_size=output_size).Attention_92()\r\n",
        "model.compile(tf.keras.optimizers.SGD(lr=1e-1, decay=1e-4, momentum=0.9, nesterov=True, clipvalue=0.5),\r\n",
        "              loss=tf.keras.losses.CategoricalCrossentropy(), \r\n",
        "              metrics=['accuracy'])\r\n",
        "\r\n",
        "callback_accuracy = tf.keras.callbacks.EarlyStopping(monitor='accuracy', patience=10)\r\n",
        "callback_lr = tf.keras.callbacks.LearningRateScheduler(scheduler)\r\n",
        "\r\n",
        "history = model.fit(datagen.flow(x_train, y_train, batch_size=64, subset='training'), validation_data=datagen.flow(x_train, y_train, batch_size=64, subset='validation'),\r\n",
        "                    epochs=200, callbacks=[callback_accuracy,callback_lr])"
      ],
      "execution_count": null,
      "outputs": []
    },
    {
      "cell_type": "code",
      "metadata": {
        "colab": {
          "base_uri": "https://localhost:8080/"
        },
        "id": "t4VUm8M46_19",
        "outputId": "74fd4fe4-106b-4540-8454-e54bcc5bb182"
      },
      "source": [
        "\"\"\"\r\n",
        ":dataset: Cifar10\r\n",
        ":model Attention-92 with pre-activation Residual Unit, Attention Residual Learning\r\n",
        ":param optimizer: Adam\r\n",
        ":param batch_size = 64\r\n",
        ":param epochs = 200\r\n",
        "\"\"\"\r\n",
        "def scheduler(epoch, lr):\r\n",
        "    if epoch % 40 == 0:\r\n",
        "        return lr * 0.5\r\n",
        "    else:\r\n",
        "        return lr\r\n",
        "\r\n",
        "model = ResidualAttentionNetwork(input_shape=input_shape, output_size=output_size).Attention_92()\r\n",
        "model.compile(tf.keras.optimizers.SGD(lr=1e-1, decay=1e-4, momentum=0.9, nesterov=True),\r\n",
        "              loss=tf.keras.losses.CategoricalCrossentropy(), \r\n",
        "              metrics=['accuracy'])\r\n",
        "\r\n",
        "callback_accuracy = tf.keras.callbacks.EarlyStopping(monitor='accuracy', patience=10)\r\n",
        "callback_lr = tf.keras.callbacks.LearningRateScheduler(scheduler)\r\n",
        "\r\n",
        "history = model.fit(datagen.flow(x_train, y_train, batch_size=64, subset='training'), validation_data=datagen.flow(x_train, y_train, batch_size=64, subset='validation'),\r\n",
        "                    epochs=200, callbacks=[callback_accuracy,callback_lr])"
      ],
      "execution_count": 8,
      "outputs": [
        {
          "output_type": "stream",
          "text": [
            "Epoch 1/200\n",
            "625/625 [==============================] - 76s 102ms/step - loss: 2.1371 - accuracy: 0.2136 - val_loss: 1.8822 - val_accuracy: 0.2905\n",
            "Epoch 2/200\n",
            "625/625 [==============================] - 61s 98ms/step - loss: 1.8411 - accuracy: 0.3050 - val_loss: 1.9958 - val_accuracy: 0.2714\n",
            "Epoch 3/200\n",
            "625/625 [==============================] - 61s 98ms/step - loss: 1.6802 - accuracy: 0.3689 - val_loss: 2.1932 - val_accuracy: 0.2251\n",
            "Epoch 4/200\n",
            "625/625 [==============================] - 60s 95ms/step - loss: 1.5895 - accuracy: 0.4079 - val_loss: 2.2392 - val_accuracy: 0.2795\n",
            "Epoch 5/200\n",
            "625/625 [==============================] - 59s 94ms/step - loss: 1.5230 - accuracy: 0.4357 - val_loss: 2.0770 - val_accuracy: 0.2396\n",
            "Epoch 6/200\n",
            "625/625 [==============================] - 59s 94ms/step - loss: 1.6161 - accuracy: 0.4005 - val_loss: 2.1316 - val_accuracy: 0.2783\n",
            "Epoch 7/200\n",
            "625/625 [==============================] - 58s 93ms/step - loss: 1.5628 - accuracy: 0.4221 - val_loss: 2.4533 - val_accuracy: 0.2167\n",
            "Epoch 8/200\n",
            "625/625 [==============================] - 57s 91ms/step - loss: 1.5767 - accuracy: 0.4129 - val_loss: 1.8477 - val_accuracy: 0.3602\n",
            "Epoch 9/200\n",
            "625/625 [==============================] - 57s 91ms/step - loss: 1.5195 - accuracy: 0.4360 - val_loss: 1.9024 - val_accuracy: 0.3324\n",
            "Epoch 10/200\n",
            "625/625 [==============================] - 56s 90ms/step - loss: 1.4855 - accuracy: 0.4541 - val_loss: 1.5431 - val_accuracy: 0.4299\n",
            "Epoch 11/200\n",
            "625/625 [==============================] - 56s 90ms/step - loss: 1.4521 - accuracy: 0.4662 - val_loss: 1.4501 - val_accuracy: 0.4694\n",
            "Epoch 12/200\n",
            "625/625 [==============================] - 55s 88ms/step - loss: 1.4292 - accuracy: 0.4730 - val_loss: 1.4435 - val_accuracy: 0.4657\n",
            "Epoch 13/200\n",
            "625/625 [==============================] - 55s 88ms/step - loss: 1.3988 - accuracy: 0.4885 - val_loss: 2.0155 - val_accuracy: 0.3072\n",
            "Epoch 14/200\n",
            "625/625 [==============================] - 55s 88ms/step - loss: 1.3649 - accuracy: 0.4932 - val_loss: 1.7789 - val_accuracy: 0.3648\n",
            "Epoch 15/200\n",
            "625/625 [==============================] - 54s 87ms/step - loss: 1.3428 - accuracy: 0.5055 - val_loss: 4.3190 - val_accuracy: 0.1474\n",
            "Epoch 16/200\n",
            "625/625 [==============================] - 54s 87ms/step - loss: 1.3200 - accuracy: 0.5175 - val_loss: 2.1602 - val_accuracy: 0.2835\n",
            "Epoch 17/200\n",
            "625/625 [==============================] - 55s 88ms/step - loss: 1.2974 - accuracy: 0.5258 - val_loss: 7.2592 - val_accuracy: 0.1488\n",
            "Epoch 18/200\n",
            "625/625 [==============================] - 59s 95ms/step - loss: 1.2737 - accuracy: 0.5360 - val_loss: 2.5324 - val_accuracy: 0.3073\n",
            "Epoch 19/200\n",
            "625/625 [==============================] - 62s 99ms/step - loss: 1.2592 - accuracy: 0.5398 - val_loss: 2.2735 - val_accuracy: 0.3415\n",
            "Epoch 20/200\n",
            "625/625 [==============================] - 62s 99ms/step - loss: 1.2403 - accuracy: 0.5474 - val_loss: 1.4653 - val_accuracy: 0.4672\n",
            "Epoch 21/200\n",
            "625/625 [==============================] - 63s 100ms/step - loss: 1.2169 - accuracy: 0.5607 - val_loss: 1.3656 - val_accuracy: 0.5162\n",
            "Epoch 22/200\n",
            "625/625 [==============================] - 62s 100ms/step - loss: 1.2065 - accuracy: 0.5602 - val_loss: 2.7722 - val_accuracy: 0.3192\n",
            "Epoch 23/200\n",
            "625/625 [==============================] - 63s 100ms/step - loss: 1.1998 - accuracy: 0.5623 - val_loss: 1.3257 - val_accuracy: 0.5403\n",
            "Epoch 24/200\n",
            "625/625 [==============================] - 63s 100ms/step - loss: 1.1680 - accuracy: 0.5797 - val_loss: 1.9053 - val_accuracy: 0.3624\n",
            "Epoch 25/200\n",
            "625/625 [==============================] - 62s 100ms/step - loss: 1.1900 - accuracy: 0.5694 - val_loss: 1.3060 - val_accuracy: 0.5230\n",
            "Epoch 26/200\n",
            "625/625 [==============================] - 63s 100ms/step - loss: 1.1542 - accuracy: 0.5826 - val_loss: 1.4064 - val_accuracy: 0.5127\n",
            "Epoch 27/200\n",
            "625/625 [==============================] - 63s 100ms/step - loss: 1.1478 - accuracy: 0.5867 - val_loss: 1.3351 - val_accuracy: 0.5356\n",
            "Epoch 28/200\n",
            "625/625 [==============================] - 62s 100ms/step - loss: 1.1299 - accuracy: 0.5914 - val_loss: 1.2515 - val_accuracy: 0.5514\n",
            "Epoch 29/200\n",
            "625/625 [==============================] - 63s 100ms/step - loss: 1.1238 - accuracy: 0.5933 - val_loss: 1.2796 - val_accuracy: 0.5372\n",
            "Epoch 30/200\n",
            "625/625 [==============================] - 63s 100ms/step - loss: 1.1031 - accuracy: 0.6026 - val_loss: 2.0956 - val_accuracy: 0.3475\n",
            "Epoch 31/200\n",
            "625/625 [==============================] - 63s 100ms/step - loss: 1.0939 - accuracy: 0.6071 - val_loss: 1.6394 - val_accuracy: 0.4526\n",
            "Epoch 32/200\n",
            "625/625 [==============================] - 63s 100ms/step - loss: 1.0718 - accuracy: 0.6154 - val_loss: 1.5301 - val_accuracy: 0.5032\n",
            "Epoch 33/200\n",
            "625/625 [==============================] - 63s 101ms/step - loss: 1.0624 - accuracy: 0.6185 - val_loss: 1.4465 - val_accuracy: 0.5083\n",
            "Epoch 34/200\n",
            "625/625 [==============================] - 63s 100ms/step - loss: 1.0624 - accuracy: 0.6172 - val_loss: 1.2176 - val_accuracy: 0.5678\n",
            "Epoch 35/200\n",
            "625/625 [==============================] - 63s 100ms/step - loss: 1.0545 - accuracy: 0.6268 - val_loss: 1.4887 - val_accuracy: 0.5139\n",
            "Epoch 36/200\n",
            "625/625 [==============================] - 62s 100ms/step - loss: 1.0389 - accuracy: 0.6263 - val_loss: 1.9759 - val_accuracy: 0.4008\n",
            "Epoch 37/200\n",
            "625/625 [==============================] - 62s 99ms/step - loss: 1.0369 - accuracy: 0.6299 - val_loss: 1.1771 - val_accuracy: 0.5801\n",
            "Epoch 38/200\n",
            "625/625 [==============================] - 61s 98ms/step - loss: 1.0349 - accuracy: 0.6270 - val_loss: 1.1352 - val_accuracy: 0.6009\n",
            "Epoch 39/200\n",
            "625/625 [==============================] - 61s 98ms/step - loss: 1.0157 - accuracy: 0.6381 - val_loss: 1.3501 - val_accuracy: 0.5223\n",
            "Epoch 40/200\n",
            "625/625 [==============================] - 61s 97ms/step - loss: 1.0187 - accuracy: 0.6365 - val_loss: 1.0239 - val_accuracy: 0.6349\n",
            "Epoch 41/200\n",
            "625/625 [==============================] - 60s 96ms/step - loss: 0.9720 - accuracy: 0.6529 - val_loss: 0.9885 - val_accuracy: 0.6457\n",
            "Epoch 42/200\n",
            "625/625 [==============================] - 59s 95ms/step - loss: 0.9342 - accuracy: 0.6686 - val_loss: 1.0455 - val_accuracy: 0.6260\n",
            "Epoch 43/200\n",
            "625/625 [==============================] - 59s 95ms/step - loss: 0.9375 - accuracy: 0.6621 - val_loss: 1.1378 - val_accuracy: 0.6070\n",
            "Epoch 44/200\n",
            "625/625 [==============================] - 58s 93ms/step - loss: 0.9373 - accuracy: 0.6646 - val_loss: 1.2569 - val_accuracy: 0.5832\n",
            "Epoch 45/200\n",
            "625/625 [==============================] - 58s 92ms/step - loss: 0.9321 - accuracy: 0.6677 - val_loss: 1.0507 - val_accuracy: 0.6291\n",
            "Epoch 46/200\n",
            "625/625 [==============================] - 58s 92ms/step - loss: 0.9135 - accuracy: 0.6733 - val_loss: 0.9583 - val_accuracy: 0.6590\n",
            "Epoch 47/200\n",
            "625/625 [==============================] - 57s 92ms/step - loss: 0.9069 - accuracy: 0.6736 - val_loss: 0.9726 - val_accuracy: 0.6523\n",
            "Epoch 48/200\n",
            "625/625 [==============================] - 57s 91ms/step - loss: 0.9199 - accuracy: 0.6736 - val_loss: 1.0024 - val_accuracy: 0.6396\n",
            "Epoch 49/200\n",
            "625/625 [==============================] - 57s 91ms/step - loss: 0.8974 - accuracy: 0.6816 - val_loss: 1.0775 - val_accuracy: 0.6172\n",
            "Epoch 50/200\n",
            "625/625 [==============================] - 59s 95ms/step - loss: 0.9153 - accuracy: 0.6734 - val_loss: 1.2896 - val_accuracy: 0.5732\n",
            "Epoch 51/200\n",
            "625/625 [==============================] - 62s 99ms/step - loss: 0.8903 - accuracy: 0.6843 - val_loss: 1.1170 - val_accuracy: 0.6215\n",
            "Epoch 52/200\n",
            "625/625 [==============================] - 62s 100ms/step - loss: 0.8996 - accuracy: 0.6781 - val_loss: 0.9616 - val_accuracy: 0.6588\n",
            "Epoch 53/200\n",
            "625/625 [==============================] - 62s 100ms/step - loss: 0.8959 - accuracy: 0.6832 - val_loss: 0.9205 - val_accuracy: 0.6707\n",
            "Epoch 54/200\n",
            "625/625 [==============================] - 62s 100ms/step - loss: 0.8823 - accuracy: 0.6834 - val_loss: 1.1403 - val_accuracy: 0.6011\n",
            "Epoch 55/200\n",
            "625/625 [==============================] - 63s 100ms/step - loss: 0.8723 - accuracy: 0.6914 - val_loss: 1.2721 - val_accuracy: 0.5718\n",
            "Epoch 56/200\n",
            "625/625 [==============================] - 62s 98ms/step - loss: 0.8796 - accuracy: 0.6888 - val_loss: 0.9149 - val_accuracy: 0.6760\n",
            "Epoch 57/200\n",
            "625/625 [==============================] - 62s 99ms/step - loss: 0.8656 - accuracy: 0.6913 - val_loss: 1.1441 - val_accuracy: 0.6092\n",
            "Epoch 58/200\n",
            "625/625 [==============================] - 62s 98ms/step - loss: 0.8515 - accuracy: 0.6941 - val_loss: 0.9462 - val_accuracy: 0.6665\n",
            "Epoch 59/200\n",
            "625/625 [==============================] - 62s 99ms/step - loss: 0.8589 - accuracy: 0.6982 - val_loss: 1.2159 - val_accuracy: 0.5899\n",
            "Epoch 60/200\n",
            "625/625 [==============================] - 62s 99ms/step - loss: 0.8461 - accuracy: 0.6985 - val_loss: 0.9604 - val_accuracy: 0.6644\n",
            "Epoch 61/200\n",
            "625/625 [==============================] - 62s 100ms/step - loss: 0.8616 - accuracy: 0.6966 - val_loss: 0.9382 - val_accuracy: 0.6699\n",
            "Epoch 62/200\n",
            "625/625 [==============================] - 63s 100ms/step - loss: 0.8452 - accuracy: 0.6999 - val_loss: 0.8708 - val_accuracy: 0.6932\n",
            "Epoch 63/200\n",
            "625/625 [==============================] - 63s 101ms/step - loss: 0.8502 - accuracy: 0.7003 - val_loss: 1.0062 - val_accuracy: 0.6501\n",
            "Epoch 64/200\n",
            "625/625 [==============================] - 63s 100ms/step - loss: 0.8391 - accuracy: 0.7053 - val_loss: 0.9887 - val_accuracy: 0.6595\n",
            "Epoch 65/200\n",
            "625/625 [==============================] - 62s 100ms/step - loss: 0.8455 - accuracy: 0.6997 - val_loss: 1.0079 - val_accuracy: 0.6490\n",
            "Epoch 66/200\n",
            "625/625 [==============================] - 62s 100ms/step - loss: 0.8358 - accuracy: 0.7044 - val_loss: 0.8583 - val_accuracy: 0.6959\n",
            "Epoch 67/200\n",
            "625/625 [==============================] - 62s 100ms/step - loss: 0.8393 - accuracy: 0.7037 - val_loss: 0.9620 - val_accuracy: 0.6644\n",
            "Epoch 68/200\n",
            "625/625 [==============================] - 63s 100ms/step - loss: 0.8179 - accuracy: 0.7101 - val_loss: 0.8886 - val_accuracy: 0.6871\n",
            "Epoch 69/200\n",
            "625/625 [==============================] - 63s 100ms/step - loss: 0.8242 - accuracy: 0.7078 - val_loss: 1.0490 - val_accuracy: 0.6409\n",
            "Epoch 70/200\n",
            "625/625 [==============================] - 63s 100ms/step - loss: 0.8176 - accuracy: 0.7092 - val_loss: 0.9478 - val_accuracy: 0.6723\n",
            "Epoch 71/200\n",
            "625/625 [==============================] - 63s 101ms/step - loss: 0.8189 - accuracy: 0.7079 - val_loss: 0.8752 - val_accuracy: 0.6946\n",
            "Epoch 72/200\n",
            "625/625 [==============================] - 64s 102ms/step - loss: 0.8076 - accuracy: 0.7133 - val_loss: 1.0180 - val_accuracy: 0.6543\n",
            "Epoch 73/200\n",
            "625/625 [==============================] - 63s 101ms/step - loss: 0.8102 - accuracy: 0.7153 - val_loss: 0.8819 - val_accuracy: 0.6887\n",
            "Epoch 74/200\n",
            "625/625 [==============================] - 63s 101ms/step - loss: 0.8088 - accuracy: 0.7155 - val_loss: 0.9279 - val_accuracy: 0.6751\n",
            "Epoch 75/200\n",
            "625/625 [==============================] - 63s 101ms/step - loss: 0.8036 - accuracy: 0.7173 - val_loss: 0.8591 - val_accuracy: 0.6997\n",
            "Epoch 76/200\n",
            "625/625 [==============================] - 63s 101ms/step - loss: 0.8002 - accuracy: 0.7182 - val_loss: 0.9527 - val_accuracy: 0.6741\n",
            "Epoch 77/200\n",
            "625/625 [==============================] - 63s 101ms/step - loss: 0.7928 - accuracy: 0.7214 - val_loss: 0.8685 - val_accuracy: 0.6993\n",
            "Epoch 78/200\n",
            "625/625 [==============================] - 63s 101ms/step - loss: 0.7811 - accuracy: 0.7241 - val_loss: 0.8292 - val_accuracy: 0.7145\n",
            "Epoch 79/200\n",
            "625/625 [==============================] - 64s 102ms/step - loss: 0.7905 - accuracy: 0.7222 - val_loss: 0.9011 - val_accuracy: 0.6906\n",
            "Epoch 80/200\n",
            "625/625 [==============================] - 64s 102ms/step - loss: 0.7771 - accuracy: 0.7230 - val_loss: 1.0224 - val_accuracy: 0.6545\n",
            "Epoch 81/200\n",
            "625/625 [==============================] - 63s 101ms/step - loss: 0.7662 - accuracy: 0.7286 - val_loss: 0.8673 - val_accuracy: 0.6950\n",
            "Epoch 82/200\n",
            "625/625 [==============================] - 63s 100ms/step - loss: 0.7617 - accuracy: 0.7323 - val_loss: 0.8138 - val_accuracy: 0.7110\n",
            "Epoch 83/200\n",
            "625/625 [==============================] - 64s 102ms/step - loss: 0.7563 - accuracy: 0.7348 - val_loss: 0.8694 - val_accuracy: 0.6938\n",
            "Epoch 84/200\n",
            "625/625 [==============================] - 63s 101ms/step - loss: 0.7391 - accuracy: 0.7387 - val_loss: 0.8127 - val_accuracy: 0.7065\n",
            "Epoch 85/200\n",
            "625/625 [==============================] - 63s 101ms/step - loss: 0.7508 - accuracy: 0.7342 - val_loss: 0.7784 - val_accuracy: 0.7260\n",
            "Epoch 86/200\n",
            "625/625 [==============================] - 63s 101ms/step - loss: 0.7446 - accuracy: 0.7377 - val_loss: 0.8003 - val_accuracy: 0.7160\n",
            "Epoch 87/200\n",
            "625/625 [==============================] - 63s 101ms/step - loss: 0.7375 - accuracy: 0.7402 - val_loss: 0.8203 - val_accuracy: 0.7139\n",
            "Epoch 88/200\n",
            "625/625 [==============================] - 64s 102ms/step - loss: 0.7374 - accuracy: 0.7396 - val_loss: 0.8407 - val_accuracy: 0.7028\n",
            "Epoch 89/200\n",
            "625/625 [==============================] - 63s 101ms/step - loss: 0.7348 - accuracy: 0.7436 - val_loss: 0.8493 - val_accuracy: 0.7070\n",
            "Epoch 90/200\n",
            "625/625 [==============================] - 63s 102ms/step - loss: 0.7242 - accuracy: 0.7450 - val_loss: 0.7983 - val_accuracy: 0.7169\n",
            "Epoch 91/200\n",
            "625/625 [==============================] - 63s 101ms/step - loss: 0.7395 - accuracy: 0.7398 - val_loss: 0.8685 - val_accuracy: 0.6997\n",
            "Epoch 92/200\n",
            "625/625 [==============================] - 64s 102ms/step - loss: 0.7350 - accuracy: 0.7389 - val_loss: 0.8047 - val_accuracy: 0.7199\n",
            "Epoch 93/200\n",
            "625/625 [==============================] - 63s 101ms/step - loss: 0.7290 - accuracy: 0.7418 - val_loss: 0.7783 - val_accuracy: 0.7250\n",
            "Epoch 94/200\n",
            "367/625 [================>.............] - ETA: 23s - loss: 0.7145 - accuracy: 0.7498Buffered data was truncated after reaching the output size limit."
          ],
          "name": "stdout"
        }
      ]
    },
    {
      "cell_type": "code",
      "metadata": {
        "colab": {
          "base_uri": "https://localhost:8080/"
        },
        "id": "P70EX5WhvlxV",
        "outputId": "e9a28b9b-a848-4b0a-f23f-55eef65a03cc"
      },
      "source": [
        "model.evaluate(x_test, y_test)"
      ],
      "execution_count": 14,
      "outputs": [
        {
          "output_type": "stream",
          "text": [
            "313/313 [==============================] - 5s 17ms/step - loss: 0.6954 - accuracy: 0.7705\n"
          ],
          "name": "stdout"
        },
        {
          "output_type": "execute_result",
          "data": {
            "text/plain": [
              "[0.6953797936439514, 0.7705000042915344]"
            ]
          },
          "metadata": {
            "tags": []
          },
          "execution_count": 14
        }
      ]
    },
    {
      "cell_type": "code",
      "metadata": {
        "colab": {
          "base_uri": "https://localhost:8080/",
          "height": 297
        },
        "id": "ZiJHiesxvwyb",
        "outputId": "3293b354-f419-4134-8364-235880f745bd"
      },
      "source": [
        "plt.plot(history.history['accuracy'], label='accuracy')\r\n",
        "plt.plot(history.history['val_accuracy'], label = 'val_accuracy')\r\n",
        "plt.xlabel('Epoch')\r\n",
        "plt.ylabel('Accuracy')\r\n",
        "plt.legend(loc='upper left')"
      ],
      "execution_count": 15,
      "outputs": [
        {
          "output_type": "execute_result",
          "data": {
            "text/plain": [
              "<matplotlib.legend.Legend at 0x7fdd8a430780>"
            ]
          },
          "metadata": {
            "tags": []
          },
          "execution_count": 15
        },
        {
          "output_type": "display_data",
          "data": {
            "image/png": "[encoded data removed]",
            "text/plain": [
              "<Figure size 432x288 with 1 Axes>"
            ]
          },
          "metadata": {
            "tags": [],
            "needs_background": "light"
          }
        }
      ]
    },
    {
      "cell_type": "code",
      "metadata": {
        "id": "A5roOk763X3-",
        "outputId": "ed0747bf-20d3-44f1-c16c-926ee29225c6",
        "colab": {
          "base_uri": "https://localhost:8080/",
          "height": 297
        }
      },
      "source": [
        "plt.plot(history.history['loss'], label='loss')\r\n",
        "plt.plot(history.history['val_loss'], label = 'val_loss')\r\n",
        "plt.xlabel('Epoch')\r\n",
        "plt.ylabel('Loss')\r\n",
        "plt.legend(loc='upper left')"
      ],
      "execution_count": 17,
      "outputs": [
        {
          "output_type": "execute_result",
          "data": {
            "text/plain": [
              "<matplotlib.legend.Legend at 0x7fdd8a46c3c8>"
            ]
          },
          "metadata": {
            "tags": []
          },
          "execution_count": 17
        },
        {
          "output_type": "display_data",
          "data": {
            "image/png": "[encoded data removed]",
            "text/plain": [
              "<Figure size 432x288 with 1 Axes>"
            ]
          },
          "metadata": {
            "tags": [],
            "needs_background": "light"
          }
        }
      ]
    },
    {
      "cell_type": "code",
      "metadata": {
        "id": "Q6c51VwC3B69"
      },
      "source": [
        "model.save('cifar10_att92_adam_arl_resnet_200epoch_val77.h5')"
      ],
      "execution_count": 16,
      "outputs": []
    }
  ]
}