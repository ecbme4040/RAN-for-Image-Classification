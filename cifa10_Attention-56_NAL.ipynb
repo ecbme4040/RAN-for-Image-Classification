{
 "cells": [
  {
   "cell_type": "code",
   "execution_count": null,
   "metadata": {},
   "outputs": [],
   "source": [
    "import tensorflow as tf\n",
    "import pickle\n",
    "from ResidualAttentionNetwork import ResidualAttentionNetwork\n",
    "from matplotlib import pyplot as plt"
   ]
  },
  {
   "cell_type": "code",
   "execution_count": null,
   "metadata": {
    "colab": {
     "base_uri": "https://localhost:8080/"
    },
    "id": "a6yY_NUTotE8",
    "outputId": "c6d7b3c5-2b70-4de6-be87-3b4f11954b89"
   },
   "outputs": [
    {
     "name": "stdout",
     "output_type": "stream",
     "text": [
      "Downloading data from https://www.cs.toronto.edu/~kriz/cifar-10-python.tar.gz\n",
      "170500096/170498071 [==============================] - 2s 0us/step\n"
     ]
    }
   ],
   "source": [
    "cifar10 = tf.keras.datasets.cifar10\n",
    "(x_train, y_train), (x_test, y_test) = cifar10.load_data()\n",
    "y_train = tf.keras.utils.to_categorical(y_train, 10)\n",
    "y_test = tf.keras.utils.to_categorical(y_test, 10)\n",
    "\n",
    "\n",
    "datagen = tf.keras.preprocessing.image.ImageDataGenerator(rotation_range=20,\n",
    "                                                          width_shift_range=0.2,\n",
    "                                                          height_shift_range=0.2,\n",
    "                                                          horizontal_flip=True,\n",
    "                                                          validation_split=0.2)\n",
    "\n",
    "x_train = x_train.astype('float32') / 255\n",
    "x_test = x_test.astype('float32') / 255\n",
    "\n",
    "x_train = x_train - x_train.mean()\n",
    "x_test = x_test - x_test.mean()\n",
    "\n",
    "datagen.fit(x_train)\n",
    "\n",
    "input_shape = x_train.shape[1:]\n",
    "output_size = 10"
   ]
  },
  {
   "cell_type": "code",
   "execution_count": null,
   "metadata": {
    "colab": {
     "base_uri": "https://localhost:8080/"
    },
    "id": "82qNI0oopTsG",
    "outputId": "e525a3b8-329a-405d-d73d-c806e77d5d54"
   },
   "outputs": [
    {
     "name": "stdout",
     "output_type": "stream",
     "text": [
      "Epoch 1/200\n",
      "625/625 [==============================] - 59s 68ms/step - loss: 1.9632 - accuracy: 0.2752 - val_loss: 2.0181 - val_accuracy: 0.3414\n",
      "Epoch 2/200\n",
      "625/625 [==============================] - 41s 65ms/step - loss: 1.5777 - accuracy: 0.4138 - val_loss: 2.3735 - val_accuracy: 0.3076\n",
      "Epoch 3/200\n",
      "625/625 [==============================] - 41s 66ms/step - loss: 1.4490 - accuracy: 0.4713 - val_loss: 1.4065 - val_accuracy: 0.4824\n",
      "Epoch 4/200\n",
      "625/625 [==============================] - 41s 65ms/step - loss: 1.3602 - accuracy: 0.5030 - val_loss: 1.4558 - val_accuracy: 0.4697\n",
      "Epoch 5/200\n",
      "625/625 [==============================] - 41s 66ms/step - loss: 1.3096 - accuracy: 0.5260 - val_loss: 3.5717 - val_accuracy: 0.3234\n",
      "Epoch 6/200\n",
      "625/625 [==============================] - 41s 66ms/step - loss: 1.2533 - accuracy: 0.5483 - val_loss: 1.3416 - val_accuracy: 0.5274\n",
      "Epoch 7/200\n",
      "625/625 [==============================] - 42s 67ms/step - loss: 1.1788 - accuracy: 0.5736 - val_loss: 1.4326 - val_accuracy: 0.5222\n",
      "Epoch 8/200\n",
      "625/625 [==============================] - 41s 65ms/step - loss: 1.1264 - accuracy: 0.5931 - val_loss: 1.2041 - val_accuracy: 0.5752\n",
      "Epoch 9/200\n",
      "625/625 [==============================] - 41s 65ms/step - loss: 1.0802 - accuracy: 0.6114 - val_loss: 1.2279 - val_accuracy: 0.5628\n",
      "Epoch 10/200\n",
      "625/625 [==============================] - 42s 67ms/step - loss: 1.0406 - accuracy: 0.6287 - val_loss: 1.1663 - val_accuracy: 0.6033\n",
      "Epoch 11/200\n",
      "625/625 [==============================] - 42s 68ms/step - loss: 1.0040 - accuracy: 0.6412 - val_loss: 1.1006 - val_accuracy: 0.6071\n",
      "Epoch 12/200\n",
      "625/625 [==============================] - 41s 65ms/step - loss: 0.9662 - accuracy: 0.6573 - val_loss: 1.0536 - val_accuracy: 0.6333\n",
      "Epoch 13/200\n",
      "625/625 [==============================] - 40s 65ms/step - loss: 0.9378 - accuracy: 0.6669 - val_loss: 1.0844 - val_accuracy: 0.6255\n",
      "Epoch 14/200\n",
      "625/625 [==============================] - 40s 64ms/step - loss: 0.9195 - accuracy: 0.6749 - val_loss: 1.0443 - val_accuracy: 0.6347\n",
      "Epoch 15/200\n",
      "625/625 [==============================] - 42s 67ms/step - loss: 0.8945 - accuracy: 0.6851 - val_loss: 1.0745 - val_accuracy: 0.6421\n",
      "Epoch 16/200\n",
      "625/625 [==============================] - 42s 66ms/step - loss: 0.8626 - accuracy: 0.6931 - val_loss: 1.3498 - val_accuracy: 0.5714\n",
      "Epoch 17/200\n",
      "625/625 [==============================] - 42s 67ms/step - loss: 0.8582 - accuracy: 0.7020 - val_loss: 0.9216 - val_accuracy: 0.6799\n",
      "Epoch 18/200\n",
      "625/625 [==============================] - 42s 67ms/step - loss: 0.8318 - accuracy: 0.7087 - val_loss: 0.9771 - val_accuracy: 0.6685\n",
      "Epoch 19/200\n",
      "625/625 [==============================] - 42s 67ms/step - loss: 0.8180 - accuracy: 0.7138 - val_loss: 0.9607 - val_accuracy: 0.6723\n",
      "Epoch 20/200\n",
      "625/625 [==============================] - 42s 67ms/step - loss: 0.7999 - accuracy: 0.7205 - val_loss: 1.0747 - val_accuracy: 0.6149\n",
      "Epoch 21/200\n",
      "625/625 [==============================] - 42s 67ms/step - loss: 0.7890 - accuracy: 0.7234 - val_loss: 0.9726 - val_accuracy: 0.6763\n",
      "Epoch 22/200\n",
      "625/625 [==============================] - 43s 68ms/step - loss: 0.7714 - accuracy: 0.7327 - val_loss: 0.8721 - val_accuracy: 0.7012\n",
      "Epoch 23/200\n",
      "625/625 [==============================] - 42s 67ms/step - loss: 0.7582 - accuracy: 0.7369 - val_loss: 0.7980 - val_accuracy: 0.7241\n",
      "Epoch 24/200\n",
      "625/625 [==============================] - 42s 67ms/step - loss: 0.7477 - accuracy: 0.7383 - val_loss: 0.9860 - val_accuracy: 0.6815\n",
      "Epoch 25/200\n",
      "625/625 [==============================] - 42s 67ms/step - loss: 0.7388 - accuracy: 0.7482 - val_loss: 0.8824 - val_accuracy: 0.7090\n",
      "Epoch 26/200\n",
      "625/625 [==============================] - 41s 66ms/step - loss: 0.7279 - accuracy: 0.7496 - val_loss: 0.7689 - val_accuracy: 0.7369\n",
      "Epoch 27/200\n",
      "625/625 [==============================] - 41s 65ms/step - loss: 0.7129 - accuracy: 0.7506 - val_loss: 1.0017 - val_accuracy: 0.6674\n",
      "Epoch 28/200\n",
      "625/625 [==============================] - 42s 68ms/step - loss: 0.6934 - accuracy: 0.7598 - val_loss: 0.8039 - val_accuracy: 0.7232\n",
      "Epoch 29/200\n",
      "625/625 [==============================] - 42s 67ms/step - loss: 0.6802 - accuracy: 0.7654 - val_loss: 0.8288 - val_accuracy: 0.7220\n",
      "Epoch 30/200\n",
      "625/625 [==============================] - 42s 67ms/step - loss: 0.6828 - accuracy: 0.7643 - val_loss: 0.7356 - val_accuracy: 0.7496\n",
      "Epoch 31/200\n",
      "625/625 [==============================] - 42s 67ms/step - loss: 0.6579 - accuracy: 0.7729 - val_loss: 0.7022 - val_accuracy: 0.7588\n",
      "Epoch 32/200\n",
      "625/625 [==============================] - 42s 66ms/step - loss: 0.6507 - accuracy: 0.7751 - val_loss: 0.8516 - val_accuracy: 0.7176\n",
      "Epoch 33/200\n",
      "625/625 [==============================] - 42s 67ms/step - loss: 0.6387 - accuracy: 0.7780 - val_loss: 0.7698 - val_accuracy: 0.7457\n",
      "Epoch 34/200\n",
      "625/625 [==============================] - 42s 67ms/step - loss: 0.6311 - accuracy: 0.7801 - val_loss: 0.7478 - val_accuracy: 0.7443\n",
      "Epoch 35/200\n",
      "625/625 [==============================] - 42s 67ms/step - loss: 0.6300 - accuracy: 0.7828 - val_loss: 0.7666 - val_accuracy: 0.7402\n",
      "Epoch 36/200\n",
      "625/625 [==============================] - 42s 67ms/step - loss: 0.6054 - accuracy: 0.7908 - val_loss: 0.8629 - val_accuracy: 0.7199\n",
      "Epoch 37/200\n",
      "625/625 [==============================] - 42s 67ms/step - loss: 0.6206 - accuracy: 0.7835 - val_loss: 0.6766 - val_accuracy: 0.7677\n",
      "Epoch 38/200\n",
      "625/625 [==============================] - 41s 66ms/step - loss: 0.6068 - accuracy: 0.7879 - val_loss: 0.6964 - val_accuracy: 0.7584\n",
      "Epoch 39/200\n",
      "625/625 [==============================] - 41s 66ms/step - loss: 0.5955 - accuracy: 0.7924 - val_loss: 0.7057 - val_accuracy: 0.7541\n",
      "Epoch 40/200\n",
      "625/625 [==============================] - 41s 66ms/step - loss: 0.5856 - accuracy: 0.7988 - val_loss: 0.6865 - val_accuracy: 0.7690\n",
      "Epoch 41/200\n",
      "625/625 [==============================] - 42s 67ms/step - loss: 0.5841 - accuracy: 0.7954 - val_loss: 0.7022 - val_accuracy: 0.7648\n",
      "Epoch 42/200\n",
      "625/625 [==============================] - 43s 70ms/step - loss: 0.5734 - accuracy: 0.8025 - val_loss: 0.7206 - val_accuracy: 0.7570\n",
      "Epoch 43/200\n",
      "625/625 [==============================] - 43s 69ms/step - loss: 0.5882 - accuracy: 0.7960 - val_loss: 0.7297 - val_accuracy: 0.7530\n",
      "Epoch 44/200\n",
      "625/625 [==============================] - 44s 70ms/step - loss: 0.5665 - accuracy: 0.8064 - val_loss: 0.6445 - val_accuracy: 0.7758\n",
      "Epoch 45/200\n",
      "625/625 [==============================] - 43s 69ms/step - loss: 0.5502 - accuracy: 0.8101 - val_loss: 0.6258 - val_accuracy: 0.7836\n",
      "Epoch 46/200\n",
      "625/625 [==============================] - 43s 69ms/step - loss: 0.5517 - accuracy: 0.8079 - val_loss: 0.6481 - val_accuracy: 0.7812\n",
      "Epoch 47/200\n",
      "625/625 [==============================] - 43s 68ms/step - loss: 0.5463 - accuracy: 0.8079 - val_loss: 0.6241 - val_accuracy: 0.7851\n",
      "Epoch 48/200\n",
      "625/625 [==============================] - 42s 68ms/step - loss: 0.5375 - accuracy: 0.8135 - val_loss: 0.7138 - val_accuracy: 0.7652\n",
      "Epoch 49/200\n",
      "625/625 [==============================] - 42s 67ms/step - loss: 0.5347 - accuracy: 0.8165 - val_loss: 0.6668 - val_accuracy: 0.7733\n",
      "Epoch 50/200\n",
      "625/625 [==============================] - 42s 67ms/step - loss: 0.5255 - accuracy: 0.8146 - val_loss: 0.6450 - val_accuracy: 0.7806\n",
      "Epoch 51/200\n",
      "625/625 [==============================] - 42s 67ms/step - loss: 0.5276 - accuracy: 0.8167 - val_loss: 0.6952 - val_accuracy: 0.7685\n",
      "Epoch 52/200\n",
      "625/625 [==============================] - 42s 68ms/step - loss: 0.5195 - accuracy: 0.8202 - val_loss: 0.6600 - val_accuracy: 0.7777\n",
      "Epoch 53/200\n",
      "625/625 [==============================] - 42s 67ms/step - loss: 0.5266 - accuracy: 0.8137 - val_loss: 0.6253 - val_accuracy: 0.7932\n",
      "Epoch 54/200\n",
      "625/625 [==============================] - 42s 66ms/step - loss: 0.5078 - accuracy: 0.8225 - val_loss: 0.6094 - val_accuracy: 0.7902\n",
      "Epoch 55/200\n",
      "625/625 [==============================] - 42s 66ms/step - loss: 0.5083 - accuracy: 0.8242 - val_loss: 0.6022 - val_accuracy: 0.7922\n",
      "Epoch 56/200\n",
      "625/625 [==============================] - 42s 67ms/step - loss: 0.5020 - accuracy: 0.8273 - val_loss: 0.5980 - val_accuracy: 0.7943\n",
      "Epoch 57/200\n",
      "625/625 [==============================] - 42s 67ms/step - loss: 0.4917 - accuracy: 0.8280 - val_loss: 0.6111 - val_accuracy: 0.7912\n",
      "Epoch 58/200\n",
      "625/625 [==============================] - 42s 66ms/step - loss: 0.4947 - accuracy: 0.8264 - val_loss: 0.7303 - val_accuracy: 0.7630\n",
      "Epoch 59/200\n",
      "625/625 [==============================] - 43s 68ms/step - loss: 0.4911 - accuracy: 0.8299 - val_loss: 0.6191 - val_accuracy: 0.7893\n",
      "Epoch 60/200\n",
      "625/625 [==============================] - 41s 66ms/step - loss: 0.4840 - accuracy: 0.8319 - val_loss: 0.6137 - val_accuracy: 0.7896\n",
      "Epoch 61/200\n",
      "625/625 [==============================] - 41s 66ms/step - loss: 0.4776 - accuracy: 0.8363 - val_loss: 0.6761 - val_accuracy: 0.7746\n",
      "Epoch 62/200\n",
      "625/625 [==============================] - 41s 66ms/step - loss: 0.4860 - accuracy: 0.8330 - val_loss: 0.6139 - val_accuracy: 0.7912\n",
      "Epoch 63/200\n",
      "625/625 [==============================] - 41s 66ms/step - loss: 0.4802 - accuracy: 0.8339 - val_loss: 0.6409 - val_accuracy: 0.7840\n",
      "Epoch 64/200\n",
      "625/625 [==============================] - 41s 66ms/step - loss: 0.4692 - accuracy: 0.8368 - val_loss: 0.5651 - val_accuracy: 0.8033\n",
      "Epoch 65/200\n",
      "625/625 [==============================] - 41s 65ms/step - loss: 0.4730 - accuracy: 0.8358 - val_loss: 0.5483 - val_accuracy: 0.8122\n",
      "Epoch 66/200\n",
      "625/625 [==============================] - 41s 65ms/step - loss: 0.4604 - accuracy: 0.8398 - val_loss: 0.5590 - val_accuracy: 0.8068\n",
      "Epoch 67/200\n",
      "625/625 [==============================] - 41s 66ms/step - loss: 0.4679 - accuracy: 0.8388 - val_loss: 0.6210 - val_accuracy: 0.7945\n",
      "Epoch 68/200\n",
      "625/625 [==============================] - 41s 66ms/step - loss: 0.4655 - accuracy: 0.8390 - val_loss: 0.5701 - val_accuracy: 0.8089\n",
      "Epoch 69/200\n",
      "625/625 [==============================] - 41s 66ms/step - loss: 0.4613 - accuracy: 0.8395 - val_loss: 0.5400 - val_accuracy: 0.8146\n",
      "Epoch 70/200\n",
      "625/625 [==============================] - 41s 66ms/step - loss: 0.4535 - accuracy: 0.8403 - val_loss: 0.5611 - val_accuracy: 0.8093\n",
      "Epoch 71/200\n",
      "625/625 [==============================] - 41s 66ms/step - loss: 0.4349 - accuracy: 0.8494 - val_loss: 0.7357 - val_accuracy: 0.7547\n",
      "Epoch 72/200\n",
      "625/625 [==============================] - 41s 66ms/step - loss: 0.4405 - accuracy: 0.8468 - val_loss: 0.5879 - val_accuracy: 0.8034\n",
      "Epoch 73/200\n",
      "625/625 [==============================] - 41s 66ms/step - loss: 0.4427 - accuracy: 0.8466 - val_loss: 0.6319 - val_accuracy: 0.7861\n",
      "Epoch 74/200\n",
      "625/625 [==============================] - 41s 66ms/step - loss: 0.4475 - accuracy: 0.8453 - val_loss: 0.5596 - val_accuracy: 0.8066\n",
      "Epoch 75/200\n",
      "625/625 [==============================] - 41s 66ms/step - loss: 0.4377 - accuracy: 0.8472 - val_loss: 0.6233 - val_accuracy: 0.7897\n",
      "Epoch 76/200\n",
      "625/625 [==============================] - 41s 66ms/step - loss: 0.4432 - accuracy: 0.8437 - val_loss: 0.5937 - val_accuracy: 0.7996\n",
      "Epoch 77/200\n",
      "625/625 [==============================] - 41s 66ms/step - loss: 0.4296 - accuracy: 0.8487 - val_loss: 0.5448 - val_accuracy: 0.8151\n",
      "Epoch 78/200\n",
      "625/625 [==============================] - 41s 66ms/step - loss: 0.4345 - accuracy: 0.8458 - val_loss: 1.1584 - val_accuracy: 0.6765\n",
      "Epoch 79/200\n",
      "625/625 [==============================] - 41s 66ms/step - loss: 0.4326 - accuracy: 0.8497 - val_loss: 0.6744 - val_accuracy: 0.7848\n",
      "Epoch 80/200\n",
      "625/625 [==============================] - 41s 65ms/step - loss: 0.4305 - accuracy: 0.8498 - val_loss: 0.5371 - val_accuracy: 0.8153\n",
      "Epoch 81/200\n",
      "625/625 [==============================] - 43s 68ms/step - loss: 0.4277 - accuracy: 0.8529 - val_loss: 0.5456 - val_accuracy: 0.8153\n",
      "Epoch 82/200\n",
      "625/625 [==============================] - 42s 68ms/step - loss: 0.4152 - accuracy: 0.8571 - val_loss: 0.5485 - val_accuracy: 0.8104\n",
      "Epoch 83/200\n",
      "625/625 [==============================] - 42s 67ms/step - loss: 0.4280 - accuracy: 0.8540 - val_loss: 0.6345 - val_accuracy: 0.7925\n",
      "Epoch 84/200\n",
      "625/625 [==============================] - 42s 67ms/step - loss: 0.4177 - accuracy: 0.8511 - val_loss: 0.5272 - val_accuracy: 0.8193\n",
      "Epoch 85/200\n",
      "625/625 [==============================] - 42s 67ms/step - loss: 0.4200 - accuracy: 0.8551 - val_loss: 0.5566 - val_accuracy: 0.8156\n",
      "Epoch 86/200\n",
      "625/625 [==============================] - 41s 66ms/step - loss: 0.4114 - accuracy: 0.8579 - val_loss: 0.5547 - val_accuracy: 0.8117\n",
      "Epoch 87/200\n",
      "625/625 [==============================] - 40s 64ms/step - loss: 0.4136 - accuracy: 0.8561 - val_loss: 0.6052 - val_accuracy: 0.8016\n",
      "Epoch 88/200\n",
      "625/625 [==============================] - 42s 67ms/step - loss: 0.4070 - accuracy: 0.8560 - val_loss: 0.6376 - val_accuracy: 0.7890\n",
      "Epoch 89/200\n",
      "625/625 [==============================] - 44s 70ms/step - loss: 0.4040 - accuracy: 0.8596 - val_loss: 0.5853 - val_accuracy: 0.8058\n",
      "Epoch 90/200\n",
      "625/625 [==============================] - 42s 67ms/step - loss: 0.4089 - accuracy: 0.8563 - val_loss: 0.5101 - val_accuracy: 0.8293\n",
      "Epoch 91/200\n",
      "625/625 [==============================] - 43s 68ms/step - loss: 0.4034 - accuracy: 0.8591 - val_loss: 0.5800 - val_accuracy: 0.8087\n",
      "Epoch 92/200\n",
      "625/625 [==============================] - 42s 68ms/step - loss: 0.4003 - accuracy: 0.8600 - val_loss: 0.5404 - val_accuracy: 0.8215\n",
      "Epoch 93/200\n",
      "625/625 [==============================] - 42s 67ms/step - loss: 0.4005 - accuracy: 0.8585 - val_loss: 0.6072 - val_accuracy: 0.7974\n",
      "Epoch 94/200\n",
      "625/625 [==============================] - 43s 68ms/step - loss: 0.4001 - accuracy: 0.8614 - val_loss: 0.5747 - val_accuracy: 0.8118\n",
      "Epoch 95/200\n",
      "625/625 [==============================] - 42s 68ms/step - loss: 0.3959 - accuracy: 0.8627 - val_loss: 0.6249 - val_accuracy: 0.7979\n",
      "Epoch 96/200\n",
      "625/625 [==============================] - 42s 67ms/step - loss: 0.3923 - accuracy: 0.8638 - val_loss: 0.5321 - val_accuracy: 0.8220\n",
      "Epoch 97/200\n",
      "625/625 [==============================] - 43s 68ms/step - loss: 0.3913 - accuracy: 0.8656 - val_loss: 0.5629 - val_accuracy: 0.8101\n",
      "Epoch 98/200\n",
      "625/625 [==============================] - 42s 67ms/step - loss: 0.4022 - accuracy: 0.8585 - val_loss: 0.5661 - val_accuracy: 0.8076\n",
      "Epoch 99/200\n",
      "625/625 [==============================] - 41s 66ms/step - loss: 0.3869 - accuracy: 0.8652 - val_loss: 0.5579 - val_accuracy: 0.8150\n",
      "Epoch 100/200\n",
      "625/625 [==============================] - 41s 66ms/step - loss: 0.3850 - accuracy: 0.8627 - val_loss: 0.5520 - val_accuracy: 0.8161\n",
      "Epoch 101/200\n",
      "625/625 [==============================] - 41s 65ms/step - loss: 0.3867 - accuracy: 0.8643 - val_loss: 0.4981 - val_accuracy: 0.8352\n",
      "Epoch 102/200\n",
      "625/625 [==============================] - 41s 66ms/step - loss: 0.3782 - accuracy: 0.8674 - val_loss: 0.6291 - val_accuracy: 0.7877\n",
      "Epoch 103/200\n",
      "625/625 [==============================] - 41s 65ms/step - loss: 0.3788 - accuracy: 0.8675 - val_loss: 0.5505 - val_accuracy: 0.8168\n",
      "Epoch 104/200\n",
      "625/625 [==============================] - 41s 66ms/step - loss: 0.3805 - accuracy: 0.8677 - val_loss: 0.5222 - val_accuracy: 0.8217\n",
      "Epoch 105/200\n",
      "625/625 [==============================] - 42s 67ms/step - loss: 0.3734 - accuracy: 0.8712 - val_loss: 0.5716 - val_accuracy: 0.8115\n",
      "Epoch 106/200\n",
      "625/625 [==============================] - 41s 66ms/step - loss: 0.3874 - accuracy: 0.8658 - val_loss: 0.5364 - val_accuracy: 0.8200\n",
      "Epoch 107/200\n",
      "625/625 [==============================] - 41s 65ms/step - loss: 0.3749 - accuracy: 0.8689 - val_loss: 0.6283 - val_accuracy: 0.7960\n",
      "Epoch 108/200\n",
      "625/625 [==============================] - 41s 65ms/step - loss: 0.3729 - accuracy: 0.8698 - val_loss: 0.5060 - val_accuracy: 0.8296\n",
      "Epoch 109/200\n",
      "625/625 [==============================] - 41s 65ms/step - loss: 0.3651 - accuracy: 0.8711 - val_loss: 0.5923 - val_accuracy: 0.8059\n",
      "Epoch 110/200\n",
      "625/625 [==============================] - 41s 66ms/step - loss: 0.3625 - accuracy: 0.8734 - val_loss: 0.5647 - val_accuracy: 0.8169\n",
      "Epoch 111/200\n",
      "625/625 [==============================] - 41s 66ms/step - loss: 0.3679 - accuracy: 0.8713 - val_loss: 0.5510 - val_accuracy: 0.8190\n",
      "Epoch 112/200\n",
      "625/625 [==============================] - 42s 67ms/step - loss: 0.3718 - accuracy: 0.8690 - val_loss: 0.5236 - val_accuracy: 0.8293\n",
      "Epoch 113/200\n",
      "625/625 [==============================] - 41s 66ms/step - loss: 0.3662 - accuracy: 0.8700 - val_loss: 0.5327 - val_accuracy: 0.8186\n",
      "Epoch 114/200\n",
      "625/625 [==============================] - 41s 66ms/step - loss: 0.3655 - accuracy: 0.8717 - val_loss: 0.5668 - val_accuracy: 0.8069\n",
      "Epoch 115/200\n",
      "625/625 [==============================] - 41s 66ms/step - loss: 0.3638 - accuracy: 0.8718 - val_loss: 0.4933 - val_accuracy: 0.8376\n",
      "Epoch 116/200\n",
      "625/625 [==============================] - 41s 66ms/step - loss: 0.3558 - accuracy: 0.8742 - val_loss: 0.5514 - val_accuracy: 0.8162\n",
      "Epoch 117/200\n",
      "625/625 [==============================] - 41s 66ms/step - loss: 0.3536 - accuracy: 0.8762 - val_loss: 0.5692 - val_accuracy: 0.8075\n",
      "Epoch 118/200\n",
      "625/625 [==============================] - 41s 66ms/step - loss: 0.3489 - accuracy: 0.8771 - val_loss: 0.6619 - val_accuracy: 0.7860\n",
      "Epoch 119/200\n",
      "625/625 [==============================] - 42s 67ms/step - loss: 0.3580 - accuracy: 0.8760 - val_loss: 0.4958 - val_accuracy: 0.8328\n",
      "Epoch 120/200\n",
      "625/625 [==============================] - 41s 66ms/step - loss: 0.3474 - accuracy: 0.8790 - val_loss: 0.5635 - val_accuracy: 0.8154\n",
      "Epoch 121/200\n",
      "625/625 [==============================] - 42s 66ms/step - loss: 0.3502 - accuracy: 0.8784 - val_loss: 0.5881 - val_accuracy: 0.8096\n",
      "Epoch 122/200\n",
      "625/625 [==============================] - 42s 66ms/step - loss: 0.3375 - accuracy: 0.8813 - val_loss: 0.8686 - val_accuracy: 0.7435\n",
      "Epoch 123/200\n",
      "625/625 [==============================] - 41s 66ms/step - loss: 0.3467 - accuracy: 0.8790 - val_loss: 0.5639 - val_accuracy: 0.8138\n",
      "Epoch 124/200\n",
      "625/625 [==============================] - 42s 66ms/step - loss: 0.3513 - accuracy: 0.8776 - val_loss: 0.5131 - val_accuracy: 0.8303\n",
      "Epoch 125/200\n",
      "625/625 [==============================] - 42s 67ms/step - loss: 0.3442 - accuracy: 0.8798 - val_loss: 0.5053 - val_accuracy: 0.8279\n",
      "Epoch 126/200\n",
      "625/625 [==============================] - 42s 67ms/step - loss: 0.3410 - accuracy: 0.8800 - val_loss: 0.5671 - val_accuracy: 0.8141\n",
      "Epoch 127/200\n",
      "625/625 [==============================] - 42s 67ms/step - loss: 0.3494 - accuracy: 0.8769 - val_loss: 0.5837 - val_accuracy: 0.8049\n",
      "Epoch 128/200\n",
      "625/625 [==============================] - 41s 66ms/step - loss: 0.3309 - accuracy: 0.8844 - val_loss: 0.5690 - val_accuracy: 0.8132\n",
      "Epoch 129/200\n",
      "625/625 [==============================] - 42s 67ms/step - loss: 0.3420 - accuracy: 0.8800 - val_loss: 0.4925 - val_accuracy: 0.8358\n",
      "Epoch 130/200\n",
      "625/625 [==============================] - 42s 66ms/step - loss: 0.3447 - accuracy: 0.8785 - val_loss: 0.5586 - val_accuracy: 0.8153\n",
      "Epoch 131/200\n",
      "625/625 [==============================] - 42s 67ms/step - loss: 0.3363 - accuracy: 0.8799 - val_loss: 0.5302 - val_accuracy: 0.8195\n",
      "Epoch 132/200\n",
      "625/625 [==============================] - 41s 66ms/step - loss: 0.3311 - accuracy: 0.8837 - val_loss: 0.5182 - val_accuracy: 0.8293\n",
      "Epoch 133/200\n",
      "625/625 [==============================] - 42s 67ms/step - loss: 0.3294 - accuracy: 0.8864 - val_loss: 0.5601 - val_accuracy: 0.8171\n",
      "Epoch 134/200\n",
      "625/625 [==============================] - 42s 67ms/step - loss: 0.3322 - accuracy: 0.8816 - val_loss: 0.4847 - val_accuracy: 0.8406\n",
      "Epoch 135/200\n",
      "625/625 [==============================] - 42s 67ms/step - loss: 0.3366 - accuracy: 0.8815 - val_loss: 0.5089 - val_accuracy: 0.8314\n",
      "Epoch 136/200\n",
      "625/625 [==============================] - 42s 67ms/step - loss: 0.3414 - accuracy: 0.8811 - val_loss: 0.5737 - val_accuracy: 0.8149\n",
      "Epoch 137/200\n",
      "625/625 [==============================] - 42s 67ms/step - loss: 0.3303 - accuracy: 0.8823 - val_loss: 0.5600 - val_accuracy: 0.8190\n",
      "Epoch 138/200\n",
      "625/625 [==============================] - 42s 66ms/step - loss: 0.3288 - accuracy: 0.8865 - val_loss: 0.5653 - val_accuracy: 0.8120\n",
      "Epoch 139/200\n",
      "625/625 [==============================] - 42s 67ms/step - loss: 0.3202 - accuracy: 0.8879 - val_loss: 0.5144 - val_accuracy: 0.8291\n",
      "Epoch 140/200\n",
      "625/625 [==============================] - 42s 66ms/step - loss: 0.3274 - accuracy: 0.8841 - val_loss: 0.5391 - val_accuracy: 0.8230\n",
      "Epoch 141/200\n",
      "625/625 [==============================] - 42s 67ms/step - loss: 0.3221 - accuracy: 0.8882 - val_loss: 0.5027 - val_accuracy: 0.8341\n",
      "Epoch 142/200\n",
      "625/625 [==============================] - 42s 67ms/step - loss: 0.3294 - accuracy: 0.8848 - val_loss: 0.4751 - val_accuracy: 0.8442\n",
      "Epoch 143/200\n",
      "625/625 [==============================] - 42s 67ms/step - loss: 0.3248 - accuracy: 0.8853 - val_loss: 0.7576 - val_accuracy: 0.7787\n",
      "Epoch 144/200\n",
      "625/625 [==============================] - 42s 67ms/step - loss: 0.3256 - accuracy: 0.8838 - val_loss: 0.5946 - val_accuracy: 0.8119\n",
      "Epoch 145/200\n",
      "625/625 [==============================] - 42s 67ms/step - loss: 0.3200 - accuracy: 0.8876 - val_loss: 0.5325 - val_accuracy: 0.8153\n",
      "Epoch 146/200\n",
      "625/625 [==============================] - 42s 67ms/step - loss: 0.3160 - accuracy: 0.8891 - val_loss: 0.5982 - val_accuracy: 0.8066\n",
      "Epoch 147/200\n",
      "625/625 [==============================] - 42s 67ms/step - loss: 0.3176 - accuracy: 0.8891 - val_loss: 0.6940 - val_accuracy: 0.7844\n",
      "Epoch 148/200\n",
      "625/625 [==============================] - 42s 67ms/step - loss: 0.3216 - accuracy: 0.8901 - val_loss: 0.4679 - val_accuracy: 0.8469\n",
      "Epoch 149/200\n",
      "625/625 [==============================] - 41s 66ms/step - loss: 0.3193 - accuracy: 0.8887 - val_loss: 0.4620 - val_accuracy: 0.8454\n",
      "Epoch 150/200\n",
      "625/625 [==============================] - 41s 65ms/step - loss: 0.3202 - accuracy: 0.8877 - val_loss: 0.5213 - val_accuracy: 0.8257\n",
      "Epoch 151/200\n",
      "625/625 [==============================] - 41s 66ms/step - loss: 0.3126 - accuracy: 0.8899 - val_loss: 0.4646 - val_accuracy: 0.8463\n",
      "Epoch 152/200\n",
      "625/625 [==============================] - 40s 64ms/step - loss: 0.3140 - accuracy: 0.8911 - val_loss: 0.4578 - val_accuracy: 0.8514\n",
      "Epoch 153/200\n",
      "625/625 [==============================] - 39s 63ms/step - loss: 0.3115 - accuracy: 0.8915 - val_loss: 0.5239 - val_accuracy: 0.8241\n",
      "Epoch 154/200\n",
      "625/625 [==============================] - 40s 63ms/step - loss: 0.3044 - accuracy: 0.8954 - val_loss: 0.6094 - val_accuracy: 0.8120\n",
      "Epoch 155/200\n",
      "625/625 [==============================] - 40s 63ms/step - loss: 0.3081 - accuracy: 0.8885 - val_loss: 0.4986 - val_accuracy: 0.8356\n",
      "Epoch 156/200\n",
      "625/625 [==============================] - 40s 64ms/step - loss: 0.3131 - accuracy: 0.8903 - val_loss: 0.4800 - val_accuracy: 0.8383\n",
      "Epoch 157/200\n",
      "625/625 [==============================] - 40s 64ms/step - loss: 0.3113 - accuracy: 0.8906 - val_loss: 0.5119 - val_accuracy: 0.8308\n",
      "Epoch 158/200\n",
      "625/625 [==============================] - 40s 64ms/step - loss: 0.3138 - accuracy: 0.8885 - val_loss: 0.4734 - val_accuracy: 0.8404\n",
      "Epoch 159/200\n",
      "625/625 [==============================] - 40s 64ms/step - loss: 0.3005 - accuracy: 0.8934 - val_loss: 0.5724 - val_accuracy: 0.8082\n",
      "Epoch 160/200\n",
      "625/625 [==============================] - 40s 64ms/step - loss: 0.3108 - accuracy: 0.8899 - val_loss: 0.4764 - val_accuracy: 0.8431\n",
      "Epoch 161/200\n",
      "625/625 [==============================] - 40s 63ms/step - loss: 0.3067 - accuracy: 0.8932 - val_loss: 0.4894 - val_accuracy: 0.8375\n",
      "Epoch 162/200\n",
      "625/625 [==============================] - 40s 64ms/step - loss: 0.3064 - accuracy: 0.8932 - val_loss: 0.5883 - val_accuracy: 0.8121\n",
      "Epoch 163/200\n",
      "625/625 [==============================] - 40s 63ms/step - loss: 0.3097 - accuracy: 0.8919 - val_loss: 0.4894 - val_accuracy: 0.8412\n",
      "Epoch 164/200\n",
      "625/625 [==============================] - 40s 64ms/step - loss: 0.2907 - accuracy: 0.8983 - val_loss: 0.5639 - val_accuracy: 0.8170\n",
      "Epoch 165/200\n",
      "625/625 [==============================] - 40s 63ms/step - loss: 0.2919 - accuracy: 0.8979 - val_loss: 0.4862 - val_accuracy: 0.8419\n",
      "Epoch 166/200\n",
      "625/625 [==============================] - 40s 64ms/step - loss: 0.3118 - accuracy: 0.8898 - val_loss: 0.5284 - val_accuracy: 0.8290\n",
      "Epoch 167/200\n",
      "625/625 [==============================] - 40s 64ms/step - loss: 0.2974 - accuracy: 0.8931 - val_loss: 0.4875 - val_accuracy: 0.8356\n",
      "Epoch 168/200\n",
      "625/625 [==============================] - 40s 63ms/step - loss: 0.2886 - accuracy: 0.8996 - val_loss: 0.4902 - val_accuracy: 0.8358\n",
      "Epoch 169/200\n",
      "625/625 [==============================] - 40s 64ms/step - loss: 0.2972 - accuracy: 0.8964 - val_loss: 0.4788 - val_accuracy: 0.8457\n",
      "Epoch 170/200\n",
      "625/625 [==============================] - 40s 64ms/step - loss: 0.2923 - accuracy: 0.8981 - val_loss: 0.4817 - val_accuracy: 0.8405\n",
      "Epoch 171/200\n",
      "625/625 [==============================] - 40s 64ms/step - loss: 0.3008 - accuracy: 0.8956 - val_loss: 0.5359 - val_accuracy: 0.8306\n",
      "Epoch 172/200\n",
      "625/625 [==============================] - 40s 64ms/step - loss: 0.2992 - accuracy: 0.8954 - val_loss: 0.4647 - val_accuracy: 0.8467\n",
      "Epoch 173/200\n",
      "625/625 [==============================] - 40s 64ms/step - loss: 0.2901 - accuracy: 0.8988 - val_loss: 0.4932 - val_accuracy: 0.8368\n",
      "Epoch 174/200\n",
      "625/625 [==============================] - 40s 63ms/step - loss: 0.2919 - accuracy: 0.8984 - val_loss: 0.4967 - val_accuracy: 0.8368\n",
      "Epoch 175/200\n",
      "625/625 [==============================] - 40s 63ms/step - loss: 0.2802 - accuracy: 0.9023 - val_loss: 0.5115 - val_accuracy: 0.8326\n",
      "Epoch 176/200\n",
      "625/625 [==============================] - 40s 64ms/step - loss: 0.2893 - accuracy: 0.8989 - val_loss: 0.5165 - val_accuracy: 0.8255\n",
      "Epoch 177/200\n",
      "625/625 [==============================] - 40s 63ms/step - loss: 0.2843 - accuracy: 0.8998 - val_loss: 0.4877 - val_accuracy: 0.8365\n",
      "Epoch 178/200\n",
      "625/625 [==============================] - 40s 64ms/step - loss: 0.2892 - accuracy: 0.8973 - val_loss: 0.4932 - val_accuracy: 0.8416\n",
      "Epoch 179/200\n",
      "625/625 [==============================] - 40s 64ms/step - loss: 0.2831 - accuracy: 0.8992 - val_loss: 0.5206 - val_accuracy: 0.8314\n",
      "Epoch 180/200\n",
      "625/625 [==============================] - 40s 64ms/step - loss: 0.2883 - accuracy: 0.8970 - val_loss: 0.4644 - val_accuracy: 0.8468\n",
      "Epoch 181/200\n",
      "625/625 [==============================] - 39s 62ms/step - loss: 0.2915 - accuracy: 0.8981 - val_loss: 0.5947 - val_accuracy: 0.8166\n",
      "Epoch 182/200\n",
      "625/625 [==============================] - 41s 65ms/step - loss: 0.2755 - accuracy: 0.9013 - val_loss: 0.5478 - val_accuracy: 0.8214\n",
      "Epoch 183/200\n",
      "625/625 [==============================] - 40s 64ms/step - loss: 0.2929 - accuracy: 0.8970 - val_loss: 0.4575 - val_accuracy: 0.8465\n",
      "Epoch 184/200\n",
      "625/625 [==============================] - 40s 63ms/step - loss: 0.2777 - accuracy: 0.9028 - val_loss: 0.4732 - val_accuracy: 0.8469\n",
      "Epoch 185/200\n",
      "625/625 [==============================] - 40s 64ms/step - loss: 0.2786 - accuracy: 0.9013 - val_loss: 0.4479 - val_accuracy: 0.8555\n",
      "Epoch 186/200\n",
      "625/625 [==============================] - 40s 64ms/step - loss: 0.2856 - accuracy: 0.9017 - val_loss: 0.5103 - val_accuracy: 0.8363\n",
      "Epoch 187/200\n",
      "625/625 [==============================] - 40s 64ms/step - loss: 0.2717 - accuracy: 0.9042 - val_loss: 0.4674 - val_accuracy: 0.8499\n",
      "Epoch 188/200\n",
      "625/625 [==============================] - 40s 63ms/step - loss: 0.2742 - accuracy: 0.9036 - val_loss: 0.5263 - val_accuracy: 0.8309\n",
      "Epoch 189/200\n",
      "625/625 [==============================] - 39s 63ms/step - loss: 0.2803 - accuracy: 0.9011 - val_loss: 0.5156 - val_accuracy: 0.8372\n",
      "Epoch 190/200\n",
      "625/625 [==============================] - 39s 62ms/step - loss: 0.2713 - accuracy: 0.9040 - val_loss: 0.5614 - val_accuracy: 0.8209\n",
      "Epoch 191/200\n",
      "625/625 [==============================] - 39s 62ms/step - loss: 0.2876 - accuracy: 0.8991 - val_loss: 0.6009 - val_accuracy: 0.8165\n",
      "Epoch 192/200\n",
      "625/625 [==============================] - 38s 61ms/step - loss: 0.2729 - accuracy: 0.9008 - val_loss: 0.4835 - val_accuracy: 0.8416\n",
      "Epoch 193/200\n",
      "625/625 [==============================] - 38s 61ms/step - loss: 0.2731 - accuracy: 0.9024 - val_loss: 0.4825 - val_accuracy: 0.8460\n",
      "Epoch 194/200\n",
      "625/625 [==============================] - 38s 60ms/step - loss: 0.2714 - accuracy: 0.9060 - val_loss: 0.5948 - val_accuracy: 0.8106\n",
      "Epoch 195/200\n",
      "625/625 [==============================] - 38s 60ms/step - loss: 0.2720 - accuracy: 0.9036 - val_loss: 0.4343 - val_accuracy: 0.8589\n",
      "Epoch 196/200\n",
      "625/625 [==============================] - 38s 61ms/step - loss: 0.2637 - accuracy: 0.9053 - val_loss: 0.4924 - val_accuracy: 0.8472\n",
      "Epoch 197/200\n",
      "625/625 [==============================] - 39s 62ms/step - loss: 0.2754 - accuracy: 0.9025 - val_loss: 0.5349 - val_accuracy: 0.8336\n",
      "Epoch 198/200\n",
      "625/625 [==============================] - 38s 61ms/step - loss: 0.2809 - accuracy: 0.9016 - val_loss: 0.4874 - val_accuracy: 0.8381\n",
      "Epoch 199/200\n",
      "625/625 [==============================] - 38s 61ms/step - loss: 0.2750 - accuracy: 0.9038 - val_loss: 0.5434 - val_accuracy: 0.8270\n",
      "Epoch 200/200\n",
      "625/625 [==============================] - 39s 62ms/step - loss: 0.2707 - accuracy: 0.9043 - val_loss: 0.4988 - val_accuracy: 0.8408\n"
     ]
    }
   ],
   "source": [
    "model = ResidualAttentionNetwork(input_shape=input_shape, output_size=output_size).Attention_92()\n",
    "model.compile(tf.keras.optimizers.Adam(),\n",
    "              loss=tf.keras.losses.CategoricalCrossentropy(), \n",
    "              metrics=['accuracy'])\n",
    "\n",
    "\n",
    "history = model.fit(datagen.flow(x_train, y_train, batch_size=64, subset='training'), validation_data=datagen.flow(x_train, y_train, batch_size=64, subset='validation'),\n",
    "                    epochs=200)"
   ]
  },
  {
   "cell_type": "code",
   "execution_count": null,
   "metadata": {
    "colab": {
     "base_uri": "https://localhost:8080/"
    },
    "id": "WaB_V8uu8yBT",
    "outputId": "a52eab9f-3e4a-420f-e799-2bd9faf35d94"
   },
   "outputs": [
    {
     "name": "stdout",
     "output_type": "stream",
     "text": [
      "313/313 [==============================] - 5s 11ms/step - loss: 0.5018 - accuracy: 0.8494\n"
     ]
    },
    {
     "data": {
      "text/plain": [
       "[0.5017899870872498, 0.849399983882904]"
      ]
     },
     "execution_count": 5,
     "metadata": {
      "tags": []
     },
     "output_type": "execute_result"
    }
   ],
   "source": [
    "model.evaluate(x_test, y_test)"
   ]
  },
  {
   "cell_type": "code",
   "execution_count": null,
   "metadata": {
    "id": "kFtG-9kkERX9"
   },
   "outputs": [],
   "source": [
    "from matplotlib import pyplot as plt"
   ]
  },
  {
   "cell_type": "code",
   "execution_count": null,
   "metadata": {
    "colab": {
     "base_uri": "https://localhost:8080/",
     "height": 296
    },
    "id": "vFdVoYhx8y0I",
    "outputId": "09cf9d40-ae67-4961-d324-ed8bd7b7222b"
   },
   "outputs": [
    {
     "data": {
      "text/plain": [
       "<matplotlib.legend.Legend at 0x7f5da41e8c18>"
      ]
     },
     "execution_count": 8,
     "metadata": {
      "tags": []
     },
     "output_type": "execute_result"
    },
    {
     "data": {
      "image/png": "[encoded data removed]",
      "text/plain": [
       "<Figure size 432x288 with 1 Axes>"
      ]
     },
     "metadata": {
      "needs_background": "light",
      "tags": []
     },
     "output_type": "display_data"
    }
   ],
   "source": [
    "plt.plot(history.history['accuracy'], label='accuracy')\n",
    "plt.plot(history.history['val_accuracy'], label = 'val_accuracy')\n",
    "plt.xlabel('Epoch')\n",
    "plt.ylabel('Accuracy')\n",
    "plt.legend(loc='upper left')"
   ]
  },
  {
   "cell_type": "code",
   "execution_count": null,
   "metadata": {
    "colab": {
     "base_uri": "https://localhost:8080/",
     "height": 296
    },
    "id": "iLCcUUWS81Qe",
    "outputId": "cdce94db-351c-421f-d722-5cd67f23311d"
   },
   "outputs": [
    {
     "data": {
      "text/plain": [
       "<matplotlib.legend.Legend at 0x7f5db1aba9b0>"
      ]
     },
     "execution_count": 9,
     "metadata": {
      "tags": []
     },
     "output_type": "execute_result"
    },
    {
     "data": {
      "image/png": "[encoded data removed]",
      "text/plain": [
       "<Figure size 432x288 with 1 Axes>"
      ]
     },
     "metadata": {
      "needs_background": "light",
      "tags": []
     },
     "output_type": "display_data"
    }
   ],
   "source": [
    "plt.plot(history.history['loss'], label='loss')\n",
    "plt.plot(history.history['val_loss'], label = 'val_loss')\n",
    "plt.xlabel('Epoch')\n",
    "plt.ylabel('Loss')\n",
    "plt.legend(loc='upper left')"
   ]
  },
  {
   "cell_type": "code",
   "execution_count": null,
   "metadata": {
    "id": "BGLW0TYo82jF"
   },
   "outputs": [],
   "source": [
    "model.save('cifar10_att56_adam_nal_resnet_200epoch.h5')"
   ]
  }
 ],
 "metadata": {
  "accelerator": "GPU",
  "colab": {
   "collapsed_sections": [],
   "name": "NAL.ipynb",
   "provenance": []
  },
  "kernelspec": {
   "display_name": "Python 3",
   "language": "python",
   "name": "python3"
  },
  "language_info": {
   "codemirror_mode": {
    "name": "ipython",
    "version": 3
   },
   "file_extension": ".py",
   "mimetype": "text/x-python",
   "name": "python",
   "nbconvert_exporter": "python",
   "pygments_lexer": "ipython3",
   "version": "3.8.5"
  }
 },
 "nbformat": 4,
 "nbformat_minor": 1
}
