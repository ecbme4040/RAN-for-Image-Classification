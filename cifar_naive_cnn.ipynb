{
 "cells": [
  {
   "cell_type": "code",
   "execution_count": 1,
   "metadata": {
    "id": "T4CcQXYDQBqV"
   },
   "outputs": [],
   "source": [
    "from tensorflow.keras import datasets, layers, models\n",
    "import tensorflow as tf\n",
    "import matplotlib.pyplot as plt"
   ]
  },
  {
   "cell_type": "markdown",
   "metadata": {
    "id": "yNS6uy-reQzN"
   },
   "source": [
    "### Cifar 10"
   ]
  },
  {
   "cell_type": "code",
   "execution_count": 33,
   "metadata": {
    "id": "4JKWiI4nR64g"
   },
   "outputs": [],
   "source": [
    "cifar10 = tf.keras.datasets.cifar10\n",
    "(x_train, y_train), (x_test, y_test) = cifar10.load_data()\n",
    "\n",
    "#convert data into one hot vector\n",
    "y_train = tf.keras.utils.to_categorical(y_train, 10)\n",
    "y_test = tf.keras.utils.to_categorical(y_test, 10) \n",
    "\n",
    "#data augmentation \n",
    "datagen = tf.keras.preprocessing.image.ImageDataGenerator(rotation_range=20,\n",
    "                                                          width_shift_range=0.2,\n",
    "                                                          height_shift_range=0.2,\n",
    "                                                          horizontal_flip=True,\n",
    "                                                          validation_split=0.2)\n",
    "\n",
    "#normalization\n",
    "x_train = x_train.astype('float32') / 255\n",
    "x_test = x_test.astype('float32') / 255\n",
    "\n",
    "x_train = x_train - x_train.mean()\n",
    "x_test = x_test - x_test.mean()\n",
    "\n",
    "datagen.fit(x_train)\n",
    "\n",
    "input_shape = x_train.shape[1:]\n",
    "output_size = 10"
   ]
  },
  {
   "cell_type": "code",
   "execution_count": null,
   "metadata": {
    "id": "JcKJQ40-QFdI"
   },
   "outputs": [],
   "source": [
    "model = models.Sequential()\n",
    "model.add(layers.Conv2D(32, (3, 3), activation='relu', input_shape=input_shape))\n",
    "model.add(layers.MaxPooling2D((2, 2)))\n",
    "model.add(layers.Conv2D(64, (3, 3), activation='relu'))\n",
    "model.add(layers.MaxPooling2D((2, 2)))\n",
    "model.add(layers.Conv2D(64, (3, 3), activation='relu'))\n",
    "model.add(layers.Flatten())\n",
    "model.add(layers.Dense(64, activation='relu'))\n",
    "model.add(layers.Dense(output_size, activation='softmax'))"
   ]
  },
  {
   "cell_type": "code",
   "execution_count": null,
   "metadata": {},
   "outputs": [],
   "source": [
    "model.summary()"
   ]
  },
  {
   "cell_type": "code",
   "execution_count": 35,
   "metadata": {
    "colab": {
     "base_uri": "https://localhost:8080/"
    },
    "id": "QOehWfnqSMm7",
    "outputId": "4b75ced8-4d4b-45d5-823b-9a3970ec3b22"
   },
   "outputs": [
    {
     "name": "stdout",
     "output_type": "stream",
     "text": [
      "Epoch 1/100\n",
      "625/625 [==============================] - 21s 34ms/step - loss: 1.9224 - accuracy: 0.2840 - val_loss: 1.5791 - val_accuracy: 0.4147\n",
      "Epoch 2/100\n",
      "625/625 [==============================] - 22s 35ms/step - loss: 1.5325 - accuracy: 0.4401 - val_loss: 1.4154 - val_accuracy: 0.4848\n",
      "Epoch 3/100\n",
      "625/625 [==============================] - 21s 33ms/step - loss: 1.3858 - accuracy: 0.4982 - val_loss: 1.3087 - val_accuracy: 0.5262\n",
      "Epoch 4/100\n",
      "625/625 [==============================] - 21s 33ms/step - loss: 1.3027 - accuracy: 0.5327 - val_loss: 1.3327 - val_accuracy: 0.5292\n",
      "Epoch 5/100\n",
      "625/625 [==============================] - 21s 33ms/step - loss: 1.2590 - accuracy: 0.5531 - val_loss: 1.1915 - val_accuracy: 0.5716\n",
      "Epoch 6/100\n",
      "625/625 [==============================] - 21s 33ms/step - loss: 1.1860 - accuracy: 0.5773 - val_loss: 1.1600 - val_accuracy: 0.5844\n",
      "Epoch 7/100\n",
      "625/625 [==============================] - 21s 34ms/step - loss: 1.1461 - accuracy: 0.5955 - val_loss: 1.1392 - val_accuracy: 0.5924\n",
      "Epoch 8/100\n",
      "625/625 [==============================] - 21s 34ms/step - loss: 1.1086 - accuracy: 0.6024 - val_loss: 1.0915 - val_accuracy: 0.6088\n",
      "Epoch 9/100\n",
      "625/625 [==============================] - 21s 33ms/step - loss: 1.0798 - accuracy: 0.6175 - val_loss: 1.0665 - val_accuracy: 0.6239\n",
      "Epoch 10/100\n",
      "625/625 [==============================] - 21s 33ms/step - loss: 1.0436 - accuracy: 0.6296 - val_loss: 1.0596 - val_accuracy: 0.6261\n",
      "Epoch 11/100\n",
      "625/625 [==============================] - 21s 34ms/step - loss: 1.0153 - accuracy: 0.6384 - val_loss: 1.0333 - val_accuracy: 0.6365\n",
      "Epoch 12/100\n",
      "625/625 [==============================] - 21s 34ms/step - loss: 1.0121 - accuracy: 0.6441 - val_loss: 1.0151 - val_accuracy: 0.6426\n",
      "Epoch 13/100\n",
      "625/625 [==============================] - 21s 34ms/step - loss: 0.9771 - accuracy: 0.6569 - val_loss: 1.0198 - val_accuracy: 0.6473\n",
      "Epoch 14/100\n",
      "625/625 [==============================] - 21s 34ms/step - loss: 0.9664 - accuracy: 0.6577 - val_loss: 0.9852 - val_accuracy: 0.6543\n",
      "Epoch 15/100\n",
      "625/625 [==============================] - 21s 33ms/step - loss: 0.9657 - accuracy: 0.6595 - val_loss: 0.9751 - val_accuracy: 0.6557\n",
      "Epoch 16/100\n",
      "625/625 [==============================] - 21s 34ms/step - loss: 0.9375 - accuracy: 0.6700 - val_loss: 0.9621 - val_accuracy: 0.6661\n",
      "Epoch 17/100\n",
      "625/625 [==============================] - 21s 33ms/step - loss: 0.9157 - accuracy: 0.6773 - val_loss: 0.9587 - val_accuracy: 0.6598\n",
      "Epoch 18/100\n",
      "625/625 [==============================] - 21s 33ms/step - loss: 0.9167 - accuracy: 0.6750 - val_loss: 0.9246 - val_accuracy: 0.6735\n",
      "Epoch 19/100\n",
      "625/625 [==============================] - 21s 34ms/step - loss: 0.9093 - accuracy: 0.6782 - val_loss: 0.9365 - val_accuracy: 0.6744\n",
      "Epoch 20/100\n",
      "625/625 [==============================] - 21s 34ms/step - loss: 0.8992 - accuracy: 0.6834 - val_loss: 0.9300 - val_accuracy: 0.6719\n",
      "Epoch 21/100\n",
      "625/625 [==============================] - 21s 33ms/step - loss: 0.8732 - accuracy: 0.6934 - val_loss: 0.8896 - val_accuracy: 0.6888\n",
      "Epoch 22/100\n",
      "625/625 [==============================] - 21s 34ms/step - loss: 0.8788 - accuracy: 0.6893 - val_loss: 0.9052 - val_accuracy: 0.6840\n",
      "Epoch 23/100\n",
      "625/625 [==============================] - 21s 34ms/step - loss: 0.8646 - accuracy: 0.6995 - val_loss: 0.9089 - val_accuracy: 0.6807\n",
      "Epoch 24/100\n",
      "625/625 [==============================] - 21s 34ms/step - loss: 0.8584 - accuracy: 0.6971 - val_loss: 0.8747 - val_accuracy: 0.6988\n",
      "Epoch 25/100\n",
      "625/625 [==============================] - 21s 33ms/step - loss: 0.8590 - accuracy: 0.6958 - val_loss: 0.8998 - val_accuracy: 0.6826\n",
      "Epoch 26/100\n",
      "625/625 [==============================] - 21s 33ms/step - loss: 0.8305 - accuracy: 0.7059 - val_loss: 0.8764 - val_accuracy: 0.6930\n",
      "Epoch 27/100\n",
      "625/625 [==============================] - 21s 34ms/step - loss: 0.8367 - accuracy: 0.7009 - val_loss: 0.9126 - val_accuracy: 0.6837\n",
      "Epoch 28/100\n",
      "625/625 [==============================] - 21s 34ms/step - loss: 0.8217 - accuracy: 0.7100 - val_loss: 0.8873 - val_accuracy: 0.6927\n",
      "Epoch 29/100\n",
      "625/625 [==============================] - 21s 34ms/step - loss: 0.8219 - accuracy: 0.7139 - val_loss: 0.8814 - val_accuracy: 0.6876\n",
      "Epoch 30/100\n",
      "625/625 [==============================] - 21s 33ms/step - loss: 0.8179 - accuracy: 0.7161 - val_loss: 0.8636 - val_accuracy: 0.6975\n",
      "Epoch 31/100\n",
      "625/625 [==============================] - 21s 34ms/step - loss: 0.8071 - accuracy: 0.7163 - val_loss: 0.8822 - val_accuracy: 0.6938\n",
      "Epoch 32/100\n",
      "625/625 [==============================] - 21s 34ms/step - loss: 0.8059 - accuracy: 0.7155 - val_loss: 0.8638 - val_accuracy: 0.6965\n",
      "Epoch 33/100\n",
      "625/625 [==============================] - 21s 34ms/step - loss: 0.8007 - accuracy: 0.7209 - val_loss: 0.8534 - val_accuracy: 0.7015\n",
      "Epoch 34/100\n",
      "625/625 [==============================] - 21s 34ms/step - loss: 0.7989 - accuracy: 0.7180 - val_loss: 0.8371 - val_accuracy: 0.7081\n",
      "Epoch 35/100\n",
      "625/625 [==============================] - 21s 34ms/step - loss: 0.7856 - accuracy: 0.7274 - val_loss: 0.8541 - val_accuracy: 0.6979\n",
      "Epoch 36/100\n",
      "625/625 [==============================] - 21s 34ms/step - loss: 0.7913 - accuracy: 0.7207 - val_loss: 0.8436 - val_accuracy: 0.7081\n",
      "Epoch 37/100\n",
      "625/625 [==============================] - 21s 34ms/step - loss: 0.7952 - accuracy: 0.7202 - val_loss: 0.8231 - val_accuracy: 0.7144\n",
      "Epoch 38/100\n",
      "625/625 [==============================] - 21s 34ms/step - loss: 0.7756 - accuracy: 0.7270 - val_loss: 0.8532 - val_accuracy: 0.7039\n",
      "Epoch 39/100\n",
      "625/625 [==============================] - 21s 34ms/step - loss: 0.7676 - accuracy: 0.7323 - val_loss: 0.8418 - val_accuracy: 0.7089\n",
      "Epoch 40/100\n",
      "625/625 [==============================] - 21s 34ms/step - loss: 0.7700 - accuracy: 0.7262 - val_loss: 0.8383 - val_accuracy: 0.7076\n",
      "Epoch 41/100\n",
      "625/625 [==============================] - 21s 34ms/step - loss: 0.7796 - accuracy: 0.7268 - val_loss: 0.8278 - val_accuracy: 0.7169\n",
      "Epoch 42/100\n",
      "625/625 [==============================] - 21s 34ms/step - loss: 0.7736 - accuracy: 0.7268 - val_loss: 0.8490 - val_accuracy: 0.7082\n",
      "Epoch 43/100\n",
      "625/625 [==============================] - 22s 36ms/step - loss: 0.7576 - accuracy: 0.7325 - val_loss: 0.8292 - val_accuracy: 0.7080\n",
      "Epoch 44/100\n",
      "625/625 [==============================] - 22s 35ms/step - loss: 0.7616 - accuracy: 0.7327 - val_loss: 0.8073 - val_accuracy: 0.7194\n",
      "Epoch 45/100\n",
      "625/625 [==============================] - 22s 36ms/step - loss: 0.7496 - accuracy: 0.7404 - val_loss: 0.8002 - val_accuracy: 0.7249\n",
      "Epoch 46/100\n",
      "625/625 [==============================] - 22s 35ms/step - loss: 0.7420 - accuracy: 0.7415 - val_loss: 0.8238 - val_accuracy: 0.7118\n",
      "Epoch 47/100\n",
      "625/625 [==============================] - 22s 35ms/step - loss: 0.7489 - accuracy: 0.7413 - val_loss: 0.8094 - val_accuracy: 0.7209\n",
      "Epoch 48/100\n",
      "625/625 [==============================] - 22s 35ms/step - loss: 0.7352 - accuracy: 0.7397 - val_loss: 0.8100 - val_accuracy: 0.7155\n",
      "Epoch 49/100\n",
      "625/625 [==============================] - 22s 34ms/step - loss: 0.7434 - accuracy: 0.7416 - val_loss: 0.8001 - val_accuracy: 0.7187\n",
      "Epoch 50/100\n",
      "625/625 [==============================] - 22s 35ms/step - loss: 0.7344 - accuracy: 0.7406 - val_loss: 0.8058 - val_accuracy: 0.7207\n",
      "Epoch 51/100\n",
      "625/625 [==============================] - 22s 35ms/step - loss: 0.7407 - accuracy: 0.7422 - val_loss: 0.7896 - val_accuracy: 0.7256\n",
      "Epoch 52/100\n",
      "625/625 [==============================] - 21s 34ms/step - loss: 0.7390 - accuracy: 0.7404 - val_loss: 0.7802 - val_accuracy: 0.7300\n",
      "Epoch 53/100\n",
      "625/625 [==============================] - 22s 34ms/step - loss: 0.7254 - accuracy: 0.7439 - val_loss: 0.7972 - val_accuracy: 0.7193\n",
      "Epoch 54/100\n",
      "625/625 [==============================] - 22s 34ms/step - loss: 0.7391 - accuracy: 0.7391 - val_loss: 0.7929 - val_accuracy: 0.7255\n",
      "Epoch 55/100\n",
      "625/625 [==============================] - 21s 34ms/step - loss: 0.7299 - accuracy: 0.7489 - val_loss: 0.7988 - val_accuracy: 0.7251\n",
      "Epoch 56/100\n",
      "625/625 [==============================] - 21s 34ms/step - loss: 0.7266 - accuracy: 0.7446 - val_loss: 0.7827 - val_accuracy: 0.7287\n",
      "Epoch 57/100\n",
      "625/625 [==============================] - 21s 34ms/step - loss: 0.7191 - accuracy: 0.7497 - val_loss: 0.7792 - val_accuracy: 0.7272\n",
      "Epoch 58/100\n",
      "625/625 [==============================] - 21s 34ms/step - loss: 0.7028 - accuracy: 0.7557 - val_loss: 0.7647 - val_accuracy: 0.7340\n",
      "Epoch 59/100\n",
      "625/625 [==============================] - 21s 34ms/step - loss: 0.7218 - accuracy: 0.7462 - val_loss: 0.8049 - val_accuracy: 0.7209\n",
      "Epoch 60/100\n",
      "625/625 [==============================] - 21s 34ms/step - loss: 0.7136 - accuracy: 0.7497 - val_loss: 0.7950 - val_accuracy: 0.7188\n",
      "Epoch 61/100\n",
      "625/625 [==============================] - 21s 34ms/step - loss: 0.7059 - accuracy: 0.7543 - val_loss: 0.8029 - val_accuracy: 0.7220\n",
      "Epoch 62/100\n",
      "625/625 [==============================] - 21s 34ms/step - loss: 0.7102 - accuracy: 0.7488 - val_loss: 0.7825 - val_accuracy: 0.7244\n",
      "Epoch 63/100\n",
      "625/625 [==============================] - 21s 34ms/step - loss: 0.7055 - accuracy: 0.7530 - val_loss: 0.8266 - val_accuracy: 0.7200\n",
      "Epoch 64/100\n",
      "625/625 [==============================] - 21s 34ms/step - loss: 0.7179 - accuracy: 0.7473 - val_loss: 0.7736 - val_accuracy: 0.7285\n",
      "Epoch 65/100\n",
      "625/625 [==============================] - 21s 34ms/step - loss: 0.6973 - accuracy: 0.7536 - val_loss: 0.7736 - val_accuracy: 0.7268\n",
      "Epoch 66/100\n",
      "625/625 [==============================] - 21s 34ms/step - loss: 0.7038 - accuracy: 0.7538 - val_loss: 0.7890 - val_accuracy: 0.7269\n",
      "Epoch 67/100\n",
      "625/625 [==============================] - 21s 34ms/step - loss: 0.6903 - accuracy: 0.7580 - val_loss: 0.8239 - val_accuracy: 0.7162\n",
      "Epoch 68/100\n",
      "625/625 [==============================] - 21s 34ms/step - loss: 0.6973 - accuracy: 0.7550 - val_loss: 0.7856 - val_accuracy: 0.7326\n",
      "Epoch 69/100\n",
      "625/625 [==============================] - 21s 34ms/step - loss: 0.6939 - accuracy: 0.7571 - val_loss: 0.7951 - val_accuracy: 0.7267\n",
      "Epoch 70/100\n",
      "625/625 [==============================] - 21s 34ms/step - loss: 0.6874 - accuracy: 0.7630 - val_loss: 0.7574 - val_accuracy: 0.7397\n",
      "Epoch 71/100\n",
      "625/625 [==============================] - 21s 34ms/step - loss: 0.6846 - accuracy: 0.7597 - val_loss: 0.7505 - val_accuracy: 0.7439\n",
      "Epoch 72/100\n",
      "625/625 [==============================] - 21s 34ms/step - loss: 0.6892 - accuracy: 0.7604 - val_loss: 0.7586 - val_accuracy: 0.7410\n",
      "Epoch 73/100\n",
      "625/625 [==============================] - 21s 34ms/step - loss: 0.6876 - accuracy: 0.7578 - val_loss: 0.7599 - val_accuracy: 0.7347\n",
      "Epoch 74/100\n",
      "625/625 [==============================] - 21s 34ms/step - loss: 0.6825 - accuracy: 0.7608 - val_loss: 0.7597 - val_accuracy: 0.7393\n",
      "Epoch 75/100\n",
      "625/625 [==============================] - 21s 34ms/step - loss: 0.6795 - accuracy: 0.7623 - val_loss: 0.7814 - val_accuracy: 0.7281\n",
      "Epoch 76/100\n",
      "625/625 [==============================] - 21s 34ms/step - loss: 0.6777 - accuracy: 0.7657 - val_loss: 0.7612 - val_accuracy: 0.7359\n",
      "Epoch 77/100\n",
      "625/625 [==============================] - 21s 34ms/step - loss: 0.6762 - accuracy: 0.7645 - val_loss: 0.7708 - val_accuracy: 0.7285\n",
      "Epoch 78/100\n",
      "625/625 [==============================] - 21s 34ms/step - loss: 0.6732 - accuracy: 0.7653 - val_loss: 0.7683 - val_accuracy: 0.7350\n",
      "Epoch 79/100\n",
      "625/625 [==============================] - 21s 34ms/step - loss: 0.6806 - accuracy: 0.7633 - val_loss: 0.7651 - val_accuracy: 0.7374\n",
      "Epoch 80/100\n",
      "625/625 [==============================] - 21s 34ms/step - loss: 0.6769 - accuracy: 0.7628 - val_loss: 0.7709 - val_accuracy: 0.7365\n",
      "Epoch 81/100\n",
      "625/625 [==============================] - 21s 34ms/step - loss: 0.6775 - accuracy: 0.7653 - val_loss: 0.7412 - val_accuracy: 0.7466\n",
      "Epoch 82/100\n",
      "625/625 [==============================] - 21s 34ms/step - loss: 0.6755 - accuracy: 0.7613 - val_loss: 0.7509 - val_accuracy: 0.7387\n",
      "Epoch 83/100\n",
      "625/625 [==============================] - 21s 34ms/step - loss: 0.6658 - accuracy: 0.7684 - val_loss: 0.7624 - val_accuracy: 0.7397\n",
      "Epoch 84/100\n",
      "625/625 [==============================] - 21s 34ms/step - loss: 0.6719 - accuracy: 0.7651 - val_loss: 0.7499 - val_accuracy: 0.7444\n",
      "Epoch 85/100\n",
      "625/625 [==============================] - 21s 34ms/step - loss: 0.6708 - accuracy: 0.7649 - val_loss: 0.7524 - val_accuracy: 0.7384\n",
      "Epoch 86/100\n",
      "625/625 [==============================] - 21s 33ms/step - loss: 0.6835 - accuracy: 0.7622 - val_loss: 0.7613 - val_accuracy: 0.7362\n",
      "Epoch 87/100\n",
      "625/625 [==============================] - 22s 35ms/step - loss: 0.6673 - accuracy: 0.7663 - val_loss: 0.7709 - val_accuracy: 0.7381\n",
      "Epoch 88/100\n",
      "625/625 [==============================] - 21s 34ms/step - loss: 0.6793 - accuracy: 0.7639 - val_loss: 0.7671 - val_accuracy: 0.7356\n",
      "Epoch 89/100\n",
      "625/625 [==============================] - 21s 34ms/step - loss: 0.6674 - accuracy: 0.7658 - val_loss: 0.7531 - val_accuracy: 0.7408\n",
      "Epoch 90/100\n",
      "625/625 [==============================] - 22s 35ms/step - loss: 0.6786 - accuracy: 0.7655 - val_loss: 0.7819 - val_accuracy: 0.7317\n",
      "Epoch 91/100\n",
      "625/625 [==============================] - 21s 34ms/step - loss: 0.6659 - accuracy: 0.7703 - val_loss: 0.7542 - val_accuracy: 0.7410\n",
      "Epoch 92/100\n",
      "625/625 [==============================] - 21s 34ms/step - loss: 0.6633 - accuracy: 0.7705 - val_loss: 0.7377 - val_accuracy: 0.7464\n",
      "Epoch 93/100\n",
      "625/625 [==============================] - 21s 34ms/step - loss: 0.6666 - accuracy: 0.7668 - val_loss: 0.7431 - val_accuracy: 0.7407\n",
      "Epoch 94/100\n",
      "625/625 [==============================] - 21s 34ms/step - loss: 0.6741 - accuracy: 0.7663 - val_loss: 0.7404 - val_accuracy: 0.7461\n",
      "Epoch 95/100\n",
      "625/625 [==============================] - 21s 34ms/step - loss: 0.6640 - accuracy: 0.7663 - val_loss: 0.7378 - val_accuracy: 0.7425\n",
      "Epoch 96/100\n",
      "625/625 [==============================] - 21s 34ms/step - loss: 0.6551 - accuracy: 0.7731 - val_loss: 0.7441 - val_accuracy: 0.7380\n",
      "Epoch 97/100\n",
      "625/625 [==============================] - 21s 34ms/step - loss: 0.6640 - accuracy: 0.7689 - val_loss: 0.7452 - val_accuracy: 0.7476\n",
      "Epoch 98/100\n",
      "625/625 [==============================] - 21s 34ms/step - loss: 0.6577 - accuracy: 0.7705 - val_loss: 0.7681 - val_accuracy: 0.7348\n",
      "Epoch 99/100\n",
      "625/625 [==============================] - 21s 34ms/step - loss: 0.6514 - accuracy: 0.7700 - val_loss: 0.7445 - val_accuracy: 0.7465\n",
      "Epoch 100/100\n",
      "625/625 [==============================] - 21s 34ms/step - loss: 0.6704 - accuracy: 0.7661 - val_loss: 0.7518 - val_accuracy: 0.7373\n"
     ]
    }
   ],
   "source": [
    "model.compile(tf.keras.optimizers.Adam(),\n",
    "              loss=tf.keras.losses.CategoricalCrossentropy(), \n",
    "              metrics=['accuracy'])\n",
    "\n",
    "history = model.fit(datagen.flow(x_train, y_train, batch_size=64, subset='training'), \n",
    "                    validation_data=datagen.flow(x_train, y_train, batch_size=64, subset='validation'),epochs=100)"
   ]
  },
  {
   "cell_type": "code",
   "execution_count": 37,
   "metadata": {
    "colab": {
     "base_uri": "https://localhost:8080/"
    },
    "id": "MtU552X6cbYv",
    "outputId": "63730576-5cc6-43d0-ba4c-a914f02ec294",
    "scrolled": true
   },
   "outputs": [
    {
     "name": "stdout",
     "output_type": "stream",
     "text": [
      "313/313 [==============================] - 1s 3ms/step - loss: 0.6536 - accuracy: 0.7792\n"
     ]
    },
    {
     "data": {
      "text/plain": [
       "[0.6535900831222534, 0.77920001745224]"
      ]
     },
     "execution_count": 37,
     "metadata": {
      "tags": []
     },
     "output_type": "execute_result"
    }
   ],
   "source": [
    "model.evaluate(x_test, y_test)"
   ]
  },
  {
   "cell_type": "code",
   "execution_count": 38,
   "metadata": {
    "colab": {
     "base_uri": "https://localhost:8080/",
     "height": 297
    },
    "id": "PF2Qcs1XQNEp",
    "outputId": "c3458d57-da6f-4eb0-b911-35f426c5f8c8"
   },
   "outputs": [
    {
     "data": {
      "text/plain": [
       "<matplotlib.legend.Legend at 0x7f9402e577f0>"
      ]
     },
     "execution_count": 38,
     "metadata": {
      "tags": []
     },
     "output_type": "execute_result"
    },
    {
     "data": {
      "image/png": "[encoded data removed]",
      "text/plain": [
       "<Figure size 432x288 with 1 Axes>"
      ]
     },
     "metadata": {
      "needs_background": "light",
      "tags": []
     },
     "output_type": "display_data"
    }
   ],
   "source": [
    "plt.plot(history.history['accuracy'], label='accuracy')\n",
    "plt.plot(history.history['val_accuracy'], label = 'val_accuracy')\n",
    "plt.xlabel('Epoch')\n",
    "plt.ylabel('Accuracy')\n",
    "plt.legend(loc='upper left')"
   ]
  },
  {
   "cell_type": "code",
   "execution_count": 39,
   "metadata": {
    "colab": {
     "base_uri": "https://localhost:8080/",
     "height": 298
    },
    "id": "BhUCpcbSQc9I",
    "outputId": "19ed2ebb-1525-4fcd-a50e-5e4faf81437c"
   },
   "outputs": [
    {
     "data": {
      "text/plain": [
       "<matplotlib.legend.Legend at 0x7f94629dfb00>"
      ]
     },
     "execution_count": 39,
     "metadata": {
      "tags": []
     },
     "output_type": "execute_result"
    },
    {
     "data": {
      "image/png": "[encoded data removed]",
      "text/plain": [
       "<Figure size 432x288 with 1 Axes>"
      ]
     },
     "metadata": {
      "needs_background": "light",
      "tags": []
     },
     "output_type": "display_data"
    }
   ],
   "source": [
    "plt.plot(history.history['loss'], label='loss')\n",
    "plt.plot(history.history['val_loss'], label = 'val_loss')\n",
    "plt.xlabel('Epoch')\n",
    "plt.ylabel('loss')\n",
    "plt.legend(loc='upper left')"
   ]
  },
  {
   "cell_type": "markdown",
   "metadata": {
    "id": "WzamoSkaeMFM"
   },
   "source": [
    "### Cifar 100"
   ]
  },
  {
   "cell_type": "code",
   "execution_count": 26,
   "metadata": {
    "id": "oj-7TJJpchfn"
   },
   "outputs": [],
   "source": [
    "cifar100 = tf.keras.datasets.cifar100\n",
    "(x_train, y_train), (x_test, y_test) = cifar100.load_data()\n",
    "\n",
    "#convert data into one hot vector\n",
    "y_train = tf.keras.utils.to_categorical(y_train, 100)\n",
    "y_test = tf.keras.utils.to_categorical(y_test, 100) \n",
    "\n",
    "#data augmentation \n",
    "datagen = tf.keras.preprocessing.image.ImageDataGenerator(rotation_range=20,\n",
    "                                                          width_shift_range=0.2,\n",
    "                                                          height_shift_range=0.2,\n",
    "                                                          horizontal_flip=True,\n",
    "                                                          validation_split=0.2)\n",
    "\n",
    "#normalization\n",
    "x_train = x_train.astype('float32') / 255\n",
    "x_test = x_test.astype('float32') / 255\n",
    "\n",
    "x_train = x_train - x_train.mean()\n",
    "x_test = x_test - x_test.mean()\n",
    "\n",
    "datagen.fit(x_train)\n",
    "\n",
    "input_shape = x_train.shape[1:]\n",
    "output_size = 100"
   ]
  },
  {
   "cell_type": "code",
   "execution_count": 30,
   "metadata": {
    "colab": {
     "base_uri": "https://localhost:8080/"
    },
    "id": "RYA055Qecksz",
    "outputId": "06443fd9-0185-4e59-b77a-3a20d7c86663"
   },
   "outputs": [
    {
     "name": "stdout",
     "output_type": "stream",
     "text": [
      "Epoch 1/100\n",
      "625/625 [==============================] - 23s 36ms/step - loss: 2.9462 - accuracy: 0.2634 - val_loss: 2.9979 - val_accuracy: 0.2545\n",
      "Epoch 2/100\n",
      "625/625 [==============================] - 23s 36ms/step - loss: 2.9029 - accuracy: 0.2760 - val_loss: 2.9912 - val_accuracy: 0.2538\n",
      "Epoch 3/100\n",
      "625/625 [==============================] - 22s 36ms/step - loss: 2.8778 - accuracy: 0.2787 - val_loss: 2.9414 - val_accuracy: 0.2684\n",
      "Epoch 4/100\n",
      "625/625 [==============================] - 22s 35ms/step - loss: 2.8458 - accuracy: 0.2809 - val_loss: 2.9301 - val_accuracy: 0.2697\n",
      "Epoch 5/100\n",
      "625/625 [==============================] - 22s 35ms/step - loss: 2.8180 - accuracy: 0.2872 - val_loss: 2.8743 - val_accuracy: 0.2811\n",
      "Epoch 6/100\n",
      "625/625 [==============================] - 22s 36ms/step - loss: 2.7953 - accuracy: 0.2890 - val_loss: 2.8748 - val_accuracy: 0.2825\n",
      "Epoch 7/100\n",
      "625/625 [==============================] - 22s 36ms/step - loss: 2.7755 - accuracy: 0.2988 - val_loss: 2.9077 - val_accuracy: 0.2670\n",
      "Epoch 8/100\n",
      "625/625 [==============================] - 22s 35ms/step - loss: 2.7437 - accuracy: 0.3064 - val_loss: 2.8255 - val_accuracy: 0.2927\n",
      "Epoch 9/100\n",
      "625/625 [==============================] - 22s 35ms/step - loss: 2.7121 - accuracy: 0.3081 - val_loss: 2.8539 - val_accuracy: 0.2878\n",
      "Epoch 10/100\n",
      "625/625 [==============================] - 22s 35ms/step - loss: 2.7032 - accuracy: 0.3132 - val_loss: 2.7969 - val_accuracy: 0.2960\n",
      "Epoch 11/100\n",
      "625/625 [==============================] - 22s 35ms/step - loss: 2.6833 - accuracy: 0.3203 - val_loss: 2.8140 - val_accuracy: 0.2884\n",
      "Epoch 12/100\n",
      "625/625 [==============================] - 22s 36ms/step - loss: 2.6821 - accuracy: 0.3175 - val_loss: 2.7879 - val_accuracy: 0.2993\n",
      "Epoch 13/100\n",
      "625/625 [==============================] - 22s 35ms/step - loss: 2.6486 - accuracy: 0.3211 - val_loss: 2.7351 - val_accuracy: 0.3093\n",
      "Epoch 14/100\n",
      "625/625 [==============================] - 22s 35ms/step - loss: 2.6296 - accuracy: 0.3276 - val_loss: 2.7362 - val_accuracy: 0.3053\n",
      "Epoch 15/100\n",
      "625/625 [==============================] - 21s 34ms/step - loss: 2.6350 - accuracy: 0.3269 - val_loss: 2.7823 - val_accuracy: 0.2974\n",
      "Epoch 16/100\n",
      "625/625 [==============================] - 21s 34ms/step - loss: 2.5964 - accuracy: 0.3360 - val_loss: 2.7615 - val_accuracy: 0.3036\n",
      "Epoch 17/100\n",
      "625/625 [==============================] - 22s 35ms/step - loss: 2.5878 - accuracy: 0.3379 - val_loss: 2.7069 - val_accuracy: 0.3093\n",
      "Epoch 18/100\n",
      "625/625 [==============================] - 22s 34ms/step - loss: 2.5817 - accuracy: 0.3376 - val_loss: 2.7026 - val_accuracy: 0.3125\n",
      "Epoch 19/100\n",
      "625/625 [==============================] - 21s 34ms/step - loss: 2.5620 - accuracy: 0.3410 - val_loss: 2.7114 - val_accuracy: 0.3154\n",
      "Epoch 20/100\n",
      "625/625 [==============================] - 21s 34ms/step - loss: 2.5633 - accuracy: 0.3367 - val_loss: 2.7469 - val_accuracy: 0.3042\n",
      "Epoch 21/100\n",
      "625/625 [==============================] - 22s 34ms/step - loss: 2.5550 - accuracy: 0.3402 - val_loss: 2.6893 - val_accuracy: 0.3197\n",
      "Epoch 22/100\n",
      "625/625 [==============================] - 21s 34ms/step - loss: 2.5396 - accuracy: 0.3500 - val_loss: 2.6738 - val_accuracy: 0.3203\n",
      "Epoch 23/100\n",
      "625/625 [==============================] - 21s 34ms/step - loss: 2.5449 - accuracy: 0.3424 - val_loss: 2.6838 - val_accuracy: 0.3123\n",
      "Epoch 24/100\n",
      "625/625 [==============================] - 21s 34ms/step - loss: 2.5223 - accuracy: 0.3482 - val_loss: 2.6288 - val_accuracy: 0.3269\n",
      "Epoch 25/100\n",
      "625/625 [==============================] - 21s 34ms/step - loss: 2.5265 - accuracy: 0.3481 - val_loss: 2.6309 - val_accuracy: 0.3231\n",
      "Epoch 26/100\n",
      "625/625 [==============================] - 21s 34ms/step - loss: 2.4797 - accuracy: 0.3567 - val_loss: 2.6399 - val_accuracy: 0.3281\n",
      "Epoch 27/100\n",
      "625/625 [==============================] - 21s 33ms/step - loss: 2.5019 - accuracy: 0.3537 - val_loss: 2.6465 - val_accuracy: 0.3233\n",
      "Epoch 28/100\n",
      "625/625 [==============================] - 21s 33ms/step - loss: 2.4786 - accuracy: 0.3587 - val_loss: 2.6314 - val_accuracy: 0.3314\n",
      "Epoch 29/100\n",
      "625/625 [==============================] - 21s 34ms/step - loss: 2.4665 - accuracy: 0.3573 - val_loss: 2.6349 - val_accuracy: 0.3310\n",
      "Epoch 30/100\n",
      "625/625 [==============================] - 21s 33ms/step - loss: 2.4517 - accuracy: 0.3624 - val_loss: 2.6080 - val_accuracy: 0.3373\n",
      "Epoch 31/100\n",
      "625/625 [==============================] - 21s 33ms/step - loss: 2.4624 - accuracy: 0.3614 - val_loss: 2.6219 - val_accuracy: 0.3299\n",
      "Epoch 32/100\n",
      "625/625 [==============================] - 21s 33ms/step - loss: 2.4517 - accuracy: 0.3649 - val_loss: 2.6003 - val_accuracy: 0.3298\n",
      "Epoch 33/100\n",
      "625/625 [==============================] - 21s 34ms/step - loss: 2.4341 - accuracy: 0.3689 - val_loss: 2.6188 - val_accuracy: 0.3359\n",
      "Epoch 34/100\n",
      "625/625 [==============================] - 21s 33ms/step - loss: 2.4640 - accuracy: 0.3637 - val_loss: 2.5717 - val_accuracy: 0.3408\n",
      "Epoch 35/100\n",
      "625/625 [==============================] - 21s 34ms/step - loss: 2.4537 - accuracy: 0.3625 - val_loss: 2.5725 - val_accuracy: 0.3397\n",
      "Epoch 36/100\n",
      "625/625 [==============================] - 21s 34ms/step - loss: 2.4106 - accuracy: 0.3787 - val_loss: 2.5656 - val_accuracy: 0.3378\n",
      "Epoch 37/100\n",
      "625/625 [==============================] - 21s 34ms/step - loss: 2.4041 - accuracy: 0.3739 - val_loss: 2.5929 - val_accuracy: 0.3407\n",
      "Epoch 38/100\n",
      "625/625 [==============================] - 21s 34ms/step - loss: 2.4296 - accuracy: 0.3677 - val_loss: 2.5639 - val_accuracy: 0.3405\n",
      "Epoch 39/100\n",
      "625/625 [==============================] - 21s 34ms/step - loss: 2.3972 - accuracy: 0.3767 - val_loss: 2.5427 - val_accuracy: 0.3564\n",
      "Epoch 40/100\n",
      "625/625 [==============================] - 21s 34ms/step - loss: 2.3885 - accuracy: 0.3795 - val_loss: 2.5636 - val_accuracy: 0.3383\n",
      "Epoch 41/100\n",
      "625/625 [==============================] - 21s 34ms/step - loss: 2.3938 - accuracy: 0.3751 - val_loss: 2.5680 - val_accuracy: 0.3478\n",
      "Epoch 42/100\n",
      "625/625 [==============================] - 21s 34ms/step - loss: 2.3748 - accuracy: 0.3739 - val_loss: 2.5971 - val_accuracy: 0.3371\n",
      "Epoch 43/100\n",
      "625/625 [==============================] - 21s 34ms/step - loss: 2.3831 - accuracy: 0.3785 - val_loss: 2.5612 - val_accuracy: 0.3448\n",
      "Epoch 44/100\n",
      "625/625 [==============================] - 21s 34ms/step - loss: 2.3694 - accuracy: 0.3838 - val_loss: 2.5193 - val_accuracy: 0.3508\n",
      "Epoch 45/100\n",
      "625/625 [==============================] - 21s 34ms/step - loss: 2.3598 - accuracy: 0.3834 - val_loss: 2.5426 - val_accuracy: 0.3513\n",
      "Epoch 46/100\n",
      "625/625 [==============================] - 21s 34ms/step - loss: 2.3715 - accuracy: 0.3787 - val_loss: 2.5615 - val_accuracy: 0.3488\n",
      "Epoch 47/100\n",
      "625/625 [==============================] - 21s 34ms/step - loss: 2.3455 - accuracy: 0.3900 - val_loss: 2.5748 - val_accuracy: 0.3429\n",
      "Epoch 48/100\n",
      "625/625 [==============================] - 21s 34ms/step - loss: 2.3561 - accuracy: 0.3845 - val_loss: 2.5015 - val_accuracy: 0.3569\n",
      "Epoch 49/100\n",
      "625/625 [==============================] - 21s 34ms/step - loss: 2.3374 - accuracy: 0.3900 - val_loss: 2.5225 - val_accuracy: 0.3524\n",
      "Epoch 50/100\n",
      "625/625 [==============================] - 21s 34ms/step - loss: 2.3575 - accuracy: 0.3815 - val_loss: 2.5218 - val_accuracy: 0.3546\n",
      "Epoch 51/100\n",
      "625/625 [==============================] - 21s 34ms/step - loss: 2.3353 - accuracy: 0.3901 - val_loss: 2.5020 - val_accuracy: 0.3626\n",
      "Epoch 52/100\n",
      "625/625 [==============================] - 21s 34ms/step - loss: 2.3068 - accuracy: 0.3919 - val_loss: 2.5025 - val_accuracy: 0.3502\n",
      "Epoch 53/100\n",
      "625/625 [==============================] - 21s 34ms/step - loss: 2.3289 - accuracy: 0.3877 - val_loss: 2.5010 - val_accuracy: 0.3546\n",
      "Epoch 54/100\n",
      "625/625 [==============================] - 21s 34ms/step - loss: 2.3101 - accuracy: 0.3938 - val_loss: 2.5378 - val_accuracy: 0.3573\n",
      "Epoch 55/100\n",
      "625/625 [==============================] - 22s 35ms/step - loss: 2.3300 - accuracy: 0.3891 - val_loss: 2.5036 - val_accuracy: 0.3620\n",
      "Epoch 56/100\n",
      "625/625 [==============================] - 21s 34ms/step - loss: 2.3368 - accuracy: 0.3864 - val_loss: 2.5034 - val_accuracy: 0.3567\n",
      "Epoch 57/100\n",
      "625/625 [==============================] - 21s 34ms/step - loss: 2.3237 - accuracy: 0.3931 - val_loss: 2.4821 - val_accuracy: 0.3616\n",
      "Epoch 58/100\n",
      "625/625 [==============================] - 21s 34ms/step - loss: 2.3117 - accuracy: 0.3940 - val_loss: 2.5017 - val_accuracy: 0.3557\n",
      "Epoch 59/100\n",
      "625/625 [==============================] - 21s 34ms/step - loss: 2.3087 - accuracy: 0.3949 - val_loss: 2.4548 - val_accuracy: 0.3634\n",
      "Epoch 60/100\n",
      "625/625 [==============================] - 21s 34ms/step - loss: 2.3073 - accuracy: 0.3948 - val_loss: 2.4803 - val_accuracy: 0.3598\n",
      "Epoch 61/100\n",
      "625/625 [==============================] - 21s 34ms/step - loss: 2.3069 - accuracy: 0.3955 - val_loss: 2.4901 - val_accuracy: 0.3686\n",
      "Epoch 62/100\n",
      "625/625 [==============================] - 21s 34ms/step - loss: 2.2937 - accuracy: 0.3993 - val_loss: 2.4988 - val_accuracy: 0.3551\n",
      "Epoch 63/100\n",
      "625/625 [==============================] - 21s 34ms/step - loss: 2.2907 - accuracy: 0.3935 - val_loss: 2.4654 - val_accuracy: 0.3613\n",
      "Epoch 64/100\n",
      "625/625 [==============================] - 21s 34ms/step - loss: 2.2821 - accuracy: 0.4008 - val_loss: 2.4859 - val_accuracy: 0.3557\n",
      "Epoch 65/100\n",
      "625/625 [==============================] - 21s 34ms/step - loss: 2.3046 - accuracy: 0.3941 - val_loss: 2.4614 - val_accuracy: 0.3643\n",
      "Epoch 66/100\n",
      "625/625 [==============================] - 21s 34ms/step - loss: 2.2863 - accuracy: 0.4009 - val_loss: 2.4539 - val_accuracy: 0.3649\n",
      "Epoch 67/100\n",
      "625/625 [==============================] - 21s 34ms/step - loss: 2.2901 - accuracy: 0.4002 - val_loss: 2.5040 - val_accuracy: 0.3555\n",
      "Epoch 68/100\n",
      "625/625 [==============================] - 21s 34ms/step - loss: 2.2918 - accuracy: 0.3970 - val_loss: 2.4819 - val_accuracy: 0.3658\n",
      "Epoch 69/100\n",
      "625/625 [==============================] - 21s 34ms/step - loss: 2.2703 - accuracy: 0.4051 - val_loss: 2.4563 - val_accuracy: 0.3643\n",
      "Epoch 70/100\n",
      "625/625 [==============================] - 22s 35ms/step - loss: 2.2591 - accuracy: 0.4056 - val_loss: 2.4553 - val_accuracy: 0.3678\n",
      "Epoch 71/100\n",
      "625/625 [==============================] - 21s 34ms/step - loss: 2.2547 - accuracy: 0.4025 - val_loss: 2.4837 - val_accuracy: 0.3596\n",
      "Epoch 72/100\n",
      "625/625 [==============================] - 21s 34ms/step - loss: 2.2554 - accuracy: 0.4045 - val_loss: 2.4352 - val_accuracy: 0.3724\n",
      "Epoch 73/100\n",
      "625/625 [==============================] - 21s 34ms/step - loss: 2.2534 - accuracy: 0.4055 - val_loss: 2.4675 - val_accuracy: 0.3658\n",
      "Epoch 74/100\n",
      "625/625 [==============================] - 21s 34ms/step - loss: 2.2426 - accuracy: 0.4106 - val_loss: 2.4367 - val_accuracy: 0.3664\n",
      "Epoch 75/100\n",
      "625/625 [==============================] - 21s 34ms/step - loss: 2.2637 - accuracy: 0.4016 - val_loss: 2.4727 - val_accuracy: 0.3631\n",
      "Epoch 76/100\n",
      "625/625 [==============================] - 21s 34ms/step - loss: 2.2426 - accuracy: 0.4089 - val_loss: 2.4804 - val_accuracy: 0.3583\n",
      "Epoch 77/100\n",
      "625/625 [==============================] - 21s 34ms/step - loss: 2.2617 - accuracy: 0.4020 - val_loss: 2.4713 - val_accuracy: 0.3612\n",
      "Epoch 78/100\n",
      "625/625 [==============================] - 21s 34ms/step - loss: 2.2614 - accuracy: 0.4039 - val_loss: 2.4422 - val_accuracy: 0.3743\n",
      "Epoch 79/100\n",
      "625/625 [==============================] - 21s 34ms/step - loss: 2.2487 - accuracy: 0.4089 - val_loss: 2.4697 - val_accuracy: 0.3654\n",
      "Epoch 80/100\n",
      "625/625 [==============================] - 21s 34ms/step - loss: 2.2555 - accuracy: 0.4068 - val_loss: 2.4275 - val_accuracy: 0.3688\n",
      "Epoch 81/100\n",
      "625/625 [==============================] - 21s 34ms/step - loss: 2.2429 - accuracy: 0.4076 - val_loss: 2.4068 - val_accuracy: 0.3822\n",
      "Epoch 82/100\n",
      "625/625 [==============================] - 21s 34ms/step - loss: 2.2336 - accuracy: 0.4127 - val_loss: 2.4452 - val_accuracy: 0.3728\n",
      "Epoch 83/100\n",
      "625/625 [==============================] - 21s 34ms/step - loss: 2.2504 - accuracy: 0.4077 - val_loss: 2.4477 - val_accuracy: 0.3750\n",
      "Epoch 84/100\n",
      "625/625 [==============================] - 21s 34ms/step - loss: 2.2373 - accuracy: 0.4072 - val_loss: 2.4441 - val_accuracy: 0.3717\n",
      "Epoch 85/100\n",
      "625/625 [==============================] - 21s 34ms/step - loss: 2.2395 - accuracy: 0.4094 - val_loss: 2.4250 - val_accuracy: 0.3748\n",
      "Epoch 86/100\n",
      "625/625 [==============================] - 21s 34ms/step - loss: 2.2227 - accuracy: 0.4114 - val_loss: 2.4337 - val_accuracy: 0.3751\n",
      "Epoch 87/100\n",
      "625/625 [==============================] - 21s 33ms/step - loss: 2.2085 - accuracy: 0.4133 - val_loss: 2.3933 - val_accuracy: 0.3725\n",
      "Epoch 88/100\n",
      "625/625 [==============================] - 21s 33ms/step - loss: 2.2333 - accuracy: 0.4114 - val_loss: 2.4274 - val_accuracy: 0.3729\n",
      "Epoch 89/100\n",
      "625/625 [==============================] - 21s 34ms/step - loss: 2.2185 - accuracy: 0.4198 - val_loss: 2.4293 - val_accuracy: 0.3700\n",
      "Epoch 90/100\n",
      "625/625 [==============================] - 21s 34ms/step - loss: 2.2107 - accuracy: 0.4128 - val_loss: 2.4167 - val_accuracy: 0.3791\n",
      "Epoch 91/100\n",
      "625/625 [==============================] - 21s 33ms/step - loss: 2.2230 - accuracy: 0.4133 - val_loss: 2.4189 - val_accuracy: 0.3731\n",
      "Epoch 92/100\n",
      "625/625 [==============================] - 21s 34ms/step - loss: 2.2285 - accuracy: 0.4105 - val_loss: 2.4188 - val_accuracy: 0.3736\n",
      "Epoch 93/100\n",
      "625/625 [==============================] - 21s 34ms/step - loss: 2.2138 - accuracy: 0.4171 - val_loss: 2.4335 - val_accuracy: 0.3732\n",
      "Epoch 94/100\n",
      "625/625 [==============================] - 21s 34ms/step - loss: 2.2338 - accuracy: 0.4116 - val_loss: 2.4043 - val_accuracy: 0.3772\n",
      "Epoch 95/100\n",
      "625/625 [==============================] - 21s 34ms/step - loss: 2.2076 - accuracy: 0.4121 - val_loss: 2.4300 - val_accuracy: 0.3751\n",
      "Epoch 96/100\n",
      "625/625 [==============================] - 21s 34ms/step - loss: 2.2047 - accuracy: 0.4126 - val_loss: 2.4541 - val_accuracy: 0.3636\n",
      "Epoch 97/100\n",
      "625/625 [==============================] - 21s 34ms/step - loss: 2.2031 - accuracy: 0.4153 - val_loss: 2.4158 - val_accuracy: 0.3744\n",
      "Epoch 98/100\n",
      "625/625 [==============================] - 21s 33ms/step - loss: 2.2073 - accuracy: 0.4156 - val_loss: 2.4389 - val_accuracy: 0.3698\n",
      "Epoch 99/100\n",
      "625/625 [==============================] - 21s 34ms/step - loss: 2.2076 - accuracy: 0.4132 - val_loss: 2.4110 - val_accuracy: 0.3774\n",
      "Epoch 100/100\n",
      "625/625 [==============================] - 21s 34ms/step - loss: 2.1991 - accuracy: 0.4162 - val_loss: 2.4134 - val_accuracy: 0.3779\n"
     ]
    }
   ],
   "source": [
    "model.compile(tf.keras.optimizers.Adam(),\n",
    "              loss=tf.keras.losses.CategoricalCrossentropy(), \n",
    "              metrics=['accuracy'])\n",
    "\n",
    "history = model.fit(datagen.flow(x_train, y_train, batch_size=64, subset='training'), \n",
    "                    validation_data=datagen.flow(x_train, y_train, batch_size=64, subset='validation'),epochs=100)"
   ]
  },
  {
   "cell_type": "code",
   "execution_count": 31,
   "metadata": {
    "colab": {
     "base_uri": "https://localhost:8080/",
     "height": 297
    },
    "id": "BJ_91IQqeHCY",
    "outputId": "187872bb-ea7b-430d-fc7a-fc558f375264"
   },
   "outputs": [
    {
     "data": {
      "text/plain": [
       "<matplotlib.legend.Legend at 0x7f940a1e57b8>"
      ]
     },
     "execution_count": 31,
     "metadata": {
      "tags": []
     },
     "output_type": "execute_result"
    },
    {
     "data": {
      "image/png": "[encoded data removed]",
      "text/plain": [
       "<Figure size 432x288 with 1 Axes>"
      ]
     },
     "metadata": {
      "needs_background": "light",
      "tags": []
     },
     "output_type": "display_data"
    }
   ],
   "source": [
    "plt.plot(history.history['accuracy'], label='accuracy')\n",
    "plt.plot(history.history['val_accuracy'], label = 'val_accuracy')\n",
    "plt.xlabel('Epoch')\n",
    "plt.ylabel('Accuracy')\n",
    "plt.legend(loc='upper left')"
   ]
  },
  {
   "cell_type": "code",
   "execution_count": 32,
   "metadata": {
    "colab": {
     "base_uri": "https://localhost:8080/",
     "height": 297
    },
    "id": "PJ7QJoPoeIbS",
    "outputId": "3528834b-9177-4889-f717-32b5508e6829"
   },
   "outputs": [
    {
     "data": {
      "text/plain": [
       "<matplotlib.legend.Legend at 0x7f940a01a2e8>"
      ]
     },
     "execution_count": 32,
     "metadata": {
      "tags": []
     },
     "output_type": "execute_result"
    },
    {
     "data": {
      "image/png": "[encoded data removed]",
      "text/plain": [
       "<Figure size 432x288 with 1 Axes>"
      ]
     },
     "metadata": {
      "needs_background": "light",
      "tags": []
     },
     "output_type": "display_data"
    }
   ],
   "source": [
    "plt.plot(history.history['loss'], label='loss')\n",
    "plt.plot(history.history['val_loss'], label = 'val_loss')\n",
    "plt.xlabel('Epoch')\n",
    "plt.ylabel('loss')\n",
    "plt.legend(loc='upper left')"
   ]
  }
 ],
 "metadata": {
  "accelerator": "GPU",
  "colab": {
   "name": "cifar100_92.ipynb",
   "provenance": []
  },
  "kernelspec": {
   "display_name": "Python 3",
   "language": "python",
   "name": "python3"
  },
  "language_info": {
   "codemirror_mode": {
    "name": "ipython",
    "version": 3
   },
   "file_extension": ".py",
   "mimetype": "text/x-python",
   "name": "python",
   "nbconvert_exporter": "python",
   "pygments_lexer": "ipython3",
   "version": "3.8.5"
  }
 },
 "nbformat": 4,
 "nbformat_minor": 1
}
